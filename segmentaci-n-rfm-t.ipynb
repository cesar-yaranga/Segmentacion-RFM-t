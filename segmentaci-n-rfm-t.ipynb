{
 "cells": [
  {
   "cell_type": "code",
   "execution_count": 1,
   "id": "cheap-ocean",
   "metadata": {
    "_cell_guid": "b1076dfc-b9ad-4769-8c92-a6c4dae69d19",
    "_uuid": "8f2839f25d086af736a60e9eeb907d3b93b6e0e5",
    "execution": {
     "iopub.execute_input": "2021-05-02T20:02:04.701535Z",
     "iopub.status.busy": "2021-05-02T20:02:04.700701Z",
     "iopub.status.idle": "2021-05-02T20:02:04.711712Z",
     "shell.execute_reply": "2021-05-02T20:02:04.710993Z"
    },
    "papermill": {
     "duration": 0.062193,
     "end_time": "2021-05-02T20:02:04.711888",
     "exception": false,
     "start_time": "2021-05-02T20:02:04.649695",
     "status": "completed"
    },
    "tags": []
   },
   "outputs": [
    {
     "name": "stdout",
     "output_type": "stream",
     "text": [
      "/kaggle/input/02databaseconsumo/02dataBaseConsumo.txt\n"
     ]
    }
   ],
   "source": [
    "# This Python 3 environment comes with many helpful analytics libraries installed\n",
    "# It is defined by the kaggle/python Docker image: https://github.com/kaggle/docker-python\n",
    "# For example, here's several helpful packages to load\n",
    "\n",
    "import numpy as np # linear algebra\n",
    "import pandas as pd # data processing, CSV file I/O (e.g. pd.read_csv)\n",
    "\n",
    "# Input data files are available in the read-only \"../input/\" directory\n",
    "# For example, running this (by clicking run or pressing Shift+Enter) will list all files under the input directory\n",
    "\n",
    "import os\n",
    "for dirname, _, filenames in os.walk('/kaggle/input'):\n",
    "    for filename in filenames:\n",
    "        print(os.path.join(dirname, filename))\n",
    "\n",
    "# You can write up to 20GB to the current directory (/kaggle/working/) that gets preserved as output when you create a version using \"Save & Run All\" \n",
    "# You can also write temporary files to /kaggle/temp/, but they won't be saved outside of the current session"
   ]
  },
  {
   "cell_type": "markdown",
   "id": "detected-shelf",
   "metadata": {
    "papermill": {
     "duration": 0.038322,
     "end_time": "2021-05-02T20:02:04.789819",
     "exception": false,
     "start_time": "2021-05-02T20:02:04.751497",
     "status": "completed"
    },
    "tags": []
   },
   "source": [
    "# Segmentación RFM"
   ]
  },
  {
   "cell_type": "markdown",
   "id": "entire-seafood",
   "metadata": {
    "papermill": {
     "duration": 0.039074,
     "end_time": "2021-05-02T20:02:04.867362",
     "exception": false,
     "start_time": "2021-05-02T20:02:04.828288",
     "status": "completed"
    },
    "tags": []
   },
   "source": [
    "# 1. Librerías"
   ]
  },
  {
   "cell_type": "code",
   "execution_count": 2,
   "id": "finite-flavor",
   "metadata": {
    "execution": {
     "iopub.execute_input": "2021-05-02T20:02:04.950435Z",
     "iopub.status.busy": "2021-05-02T20:02:04.949701Z",
     "iopub.status.idle": "2021-05-02T20:02:05.819985Z",
     "shell.execute_reply": "2021-05-02T20:02:05.819283Z"
    },
    "papermill": {
     "duration": 0.914297,
     "end_time": "2021-05-02T20:02:05.820144",
     "exception": false,
     "start_time": "2021-05-02T20:02:04.905847",
     "status": "completed"
    },
    "tags": []
   },
   "outputs": [],
   "source": [
    "import pandas as pd\n",
    "import numpy as np\n",
    "import matplotlib.pyplot as plt\n",
    "import datetime\n",
    "import calendar\n",
    "import seaborn as sns\n",
    "import squarify"
   ]
  },
  {
   "cell_type": "markdown",
   "id": "miniature-helicopter",
   "metadata": {
    "papermill": {
     "duration": 0.038518,
     "end_time": "2021-05-02T20:02:05.899480",
     "exception": false,
     "start_time": "2021-05-02T20:02:05.860962",
     "status": "completed"
    },
    "tags": []
   },
   "source": [
    "# 2. Funciones"
   ]
  },
  {
   "cell_type": "code",
   "execution_count": 3,
   "id": "personal-creature",
   "metadata": {
    "execution": {
     "iopub.execute_input": "2021-05-02T20:02:05.984428Z",
     "iopub.status.busy": "2021-05-02T20:02:05.983755Z",
     "iopub.status.idle": "2021-05-02T20:02:05.986780Z",
     "shell.execute_reply": "2021-05-02T20:02:05.986235Z"
    },
    "papermill": {
     "duration": 0.046588,
     "end_time": "2021-05-02T20:02:05.986934",
     "exception": false,
     "start_time": "2021-05-02T20:02:05.940346",
     "status": "completed"
    },
    "tags": []
   },
   "outputs": [],
   "source": [
    "def convStrDate(cadena):\n",
    "    cadena = str(cadena)\n",
    "    fec = cadena[0:4]+'-'+cadena[4:7]+'-01'\n",
    "    return fec"
   ]
  },
  {
   "cell_type": "code",
   "execution_count": 4,
   "id": "worst-nickname",
   "metadata": {
    "execution": {
     "iopub.execute_input": "2021-05-02T20:02:06.069830Z",
     "iopub.status.busy": "2021-05-02T20:02:06.069215Z",
     "iopub.status.idle": "2021-05-02T20:02:06.071448Z",
     "shell.execute_reply": "2021-05-02T20:02:06.071989Z"
    },
    "papermill": {
     "duration": 0.046578,
     "end_time": "2021-05-02T20:02:06.072161",
     "exception": false,
     "start_time": "2021-05-02T20:02:06.025583",
     "status": "completed"
    },
    "tags": []
   },
   "outputs": [],
   "source": [
    "def add_months(date, months):\n",
    "    month = date.month - 1 + months\n",
    "    year = date.year + month // 12\n",
    "    month = month % 12 + 1\n",
    "    day = min(date.day, calendar.monthrange(year,month)[1])\n",
    "    return datetime.date(year, month, day)"
   ]
  },
  {
   "cell_type": "markdown",
   "id": "optimum-relaxation",
   "metadata": {
    "papermill": {
     "duration": 0.052322,
     "end_time": "2021-05-02T20:02:06.165868",
     "exception": false,
     "start_time": "2021-05-02T20:02:06.113546",
     "status": "completed"
    },
    "tags": []
   },
   "source": [
    "# 3. Extracción Base de Datos"
   ]
  },
  {
   "cell_type": "markdown",
   "id": "martial-pleasure",
   "metadata": {
    "papermill": {
     "duration": 0.051017,
     "end_time": "2021-05-02T20:02:06.276018",
     "exception": false,
     "start_time": "2021-05-02T20:02:06.225001",
     "status": "completed"
    },
    "tags": []
   },
   "source": [
    "Extraemos la base de datos de consumo, en este caso no se considerarálos rubros, ya que, trataremos de aprovechar la esencia de las variables básicas como es la periodicidad y monto."
   ]
  },
  {
   "cell_type": "code",
   "execution_count": 5,
   "id": "respected-century",
   "metadata": {
    "execution": {
     "iopub.execute_input": "2021-05-02T20:02:06.358804Z",
     "iopub.status.busy": "2021-05-02T20:02:06.358121Z",
     "iopub.status.idle": "2021-05-02T20:02:06.977037Z",
     "shell.execute_reply": "2021-05-02T20:02:06.975896Z"
    },
    "papermill": {
     "duration": 0.661096,
     "end_time": "2021-05-02T20:02:06.977181",
     "exception": false,
     "start_time": "2021-05-02T20:02:06.316085",
     "status": "completed"
    },
    "tags": []
   },
   "outputs": [
    {
     "data": {
      "text/html": [
       "<div>\n",
       "<style scoped>\n",
       "    .dataframe tbody tr th:only-of-type {\n",
       "        vertical-align: middle;\n",
       "    }\n",
       "\n",
       "    .dataframe tbody tr th {\n",
       "        vertical-align: top;\n",
       "    }\n",
       "\n",
       "    .dataframe thead th {\n",
       "        text-align: right;\n",
       "    }\n",
       "</style>\n",
       "<table border=\"1\" class=\"dataframe\">\n",
       "  <thead>\n",
       "    <tr style=\"text-align: right;\">\n",
       "      <th></th>\n",
       "      <th>codmes</th>\n",
       "      <th>cliente</th>\n",
       "      <th>edad</th>\n",
       "      <th>ingreso</th>\n",
       "      <th>sexo</th>\n",
       "      <th>flgLimaProv</th>\n",
       "      <th>flgAfBxi</th>\n",
       "      <th>monto</th>\n",
       "      <th>trx</th>\n",
       "    </tr>\n",
       "  </thead>\n",
       "  <tbody>\n",
       "    <tr>\n",
       "      <th>0</th>\n",
       "      <td>201611</td>\n",
       "      <td>32572</td>\n",
       "      <td>[1. &lt;=25]</td>\n",
       "      <td>[2. &lt;=1500]</td>\n",
       "      <td>F</td>\n",
       "      <td>1.0</td>\n",
       "      <td>1.0</td>\n",
       "      <td>12</td>\n",
       "      <td>1</td>\n",
       "    </tr>\n",
       "    <tr>\n",
       "      <th>1</th>\n",
       "      <td>201611</td>\n",
       "      <td>29843</td>\n",
       "      <td>[1. &lt;=25]</td>\n",
       "      <td>[3. &lt;=2500]</td>\n",
       "      <td>F</td>\n",
       "      <td>0.0</td>\n",
       "      <td>1.0</td>\n",
       "      <td>22</td>\n",
       "      <td>1</td>\n",
       "    </tr>\n",
       "    <tr>\n",
       "      <th>2</th>\n",
       "      <td>201611</td>\n",
       "      <td>30033</td>\n",
       "      <td>[2. &lt;=30]</td>\n",
       "      <td>[2. &lt;=1500]</td>\n",
       "      <td>F</td>\n",
       "      <td>0.0</td>\n",
       "      <td>1.0</td>\n",
       "      <td>10</td>\n",
       "      <td>1</td>\n",
       "    </tr>\n",
       "    <tr>\n",
       "      <th>3</th>\n",
       "      <td>201612</td>\n",
       "      <td>3847</td>\n",
       "      <td>[7. &gt; 55]</td>\n",
       "      <td>[3. &lt;=2500]</td>\n",
       "      <td>M</td>\n",
       "      <td>1.0</td>\n",
       "      <td>0.0</td>\n",
       "      <td>350</td>\n",
       "      <td>4</td>\n",
       "    </tr>\n",
       "    <tr>\n",
       "      <th>4</th>\n",
       "      <td>201611</td>\n",
       "      <td>33131</td>\n",
       "      <td>[1. &lt;=25]</td>\n",
       "      <td>[2. &lt;=1500]</td>\n",
       "      <td>F</td>\n",
       "      <td>1.0</td>\n",
       "      <td>1.0</td>\n",
       "      <td>65</td>\n",
       "      <td>2</td>\n",
       "    </tr>\n",
       "  </tbody>\n",
       "</table>\n",
       "</div>"
      ],
      "text/plain": [
       "   codmes  cliente       edad      ingreso sexo  flgLimaProv  flgAfBxi  monto  \\\n",
       "0  201611    32572  [1. <=25]  [2. <=1500]    F          1.0       1.0     12   \n",
       "1  201611    29843  [1. <=25]  [3. <=2500]    F          0.0       1.0     22   \n",
       "2  201611    30033  [2. <=30]  [2. <=1500]    F          0.0       1.0     10   \n",
       "3  201612     3847  [7. > 55]  [3. <=2500]    M          1.0       0.0    350   \n",
       "4  201611    33131  [1. <=25]  [2. <=1500]    F          1.0       1.0     65   \n",
       "\n",
       "   trx  \n",
       "0    1  \n",
       "1    1  \n",
       "2    1  \n",
       "3    4  \n",
       "4    2  "
      ]
     },
     "execution_count": 5,
     "metadata": {},
     "output_type": "execute_result"
    }
   ],
   "source": [
    "dataFramePre = pd.read_csv(\"/kaggle/input/02databaseconsumo/02dataBaseConsumo.txt\",delimiter='|', encoding='latin-1')\n",
    "dataFramePre = dataFramePre.drop(['grupoGiro'],axis=1)\n",
    "dataFramePre.head()"
   ]
  },
  {
   "cell_type": "markdown",
   "id": "opponent-typing",
   "metadata": {
    "papermill": {
     "duration": 0.041797,
     "end_time": "2021-05-02T20:02:07.060137",
     "exception": false,
     "start_time": "2021-05-02T20:02:07.018340",
     "status": "completed"
    },
    "tags": []
   },
   "source": [
    "Creamos la base de datos con todos los periodos (histórico) de consumo e incluimos una variable de índice (ind) para los posteriores tratamientos."
   ]
  },
  {
   "cell_type": "code",
   "execution_count": 6,
   "id": "statistical-trademark",
   "metadata": {
    "execution": {
     "iopub.execute_input": "2021-05-02T20:02:07.147578Z",
     "iopub.status.busy": "2021-05-02T20:02:07.146980Z",
     "iopub.status.idle": "2021-05-02T20:02:07.500026Z",
     "shell.execute_reply": "2021-05-02T20:02:07.499458Z"
    },
    "papermill": {
     "duration": 0.399115,
     "end_time": "2021-05-02T20:02:07.500212",
     "exception": false,
     "start_time": "2021-05-02T20:02:07.101097",
     "status": "completed"
    },
    "tags": []
   },
   "outputs": [
    {
     "data": {
      "text/html": [
       "<div>\n",
       "<style scoped>\n",
       "    .dataframe tbody tr th:only-of-type {\n",
       "        vertical-align: middle;\n",
       "    }\n",
       "\n",
       "    .dataframe tbody tr th {\n",
       "        vertical-align: top;\n",
       "    }\n",
       "\n",
       "    .dataframe thead th {\n",
       "        text-align: right;\n",
       "    }\n",
       "</style>\n",
       "<table border=\"1\" class=\"dataframe\">\n",
       "  <thead>\n",
       "    <tr style=\"text-align: right;\">\n",
       "      <th></th>\n",
       "      <th>codmes</th>\n",
       "      <th>cliente</th>\n",
       "      <th>edad</th>\n",
       "      <th>ingreso</th>\n",
       "      <th>sexo</th>\n",
       "      <th>flgLimaProv</th>\n",
       "      <th>flgAfBxi</th>\n",
       "      <th>monto</th>\n",
       "      <th>trx</th>\n",
       "      <th>fecha</th>\n",
       "    </tr>\n",
       "  </thead>\n",
       "  <tbody>\n",
       "    <tr>\n",
       "      <th>0</th>\n",
       "      <td>201611</td>\n",
       "      <td>32572</td>\n",
       "      <td>[1. &lt;=25]</td>\n",
       "      <td>[2. &lt;=1500]</td>\n",
       "      <td>F</td>\n",
       "      <td>1.0</td>\n",
       "      <td>1.0</td>\n",
       "      <td>12</td>\n",
       "      <td>1</td>\n",
       "      <td>2016-11-01</td>\n",
       "    </tr>\n",
       "    <tr>\n",
       "      <th>1</th>\n",
       "      <td>201611</td>\n",
       "      <td>29843</td>\n",
       "      <td>[1. &lt;=25]</td>\n",
       "      <td>[3. &lt;=2500]</td>\n",
       "      <td>F</td>\n",
       "      <td>0.0</td>\n",
       "      <td>1.0</td>\n",
       "      <td>22</td>\n",
       "      <td>1</td>\n",
       "      <td>2016-11-01</td>\n",
       "    </tr>\n",
       "    <tr>\n",
       "      <th>2</th>\n",
       "      <td>201611</td>\n",
       "      <td>30033</td>\n",
       "      <td>[2. &lt;=30]</td>\n",
       "      <td>[2. &lt;=1500]</td>\n",
       "      <td>F</td>\n",
       "      <td>0.0</td>\n",
       "      <td>1.0</td>\n",
       "      <td>10</td>\n",
       "      <td>1</td>\n",
       "      <td>2016-11-01</td>\n",
       "    </tr>\n",
       "    <tr>\n",
       "      <th>3</th>\n",
       "      <td>201612</td>\n",
       "      <td>3847</td>\n",
       "      <td>[7. &gt; 55]</td>\n",
       "      <td>[3. &lt;=2500]</td>\n",
       "      <td>M</td>\n",
       "      <td>1.0</td>\n",
       "      <td>0.0</td>\n",
       "      <td>350</td>\n",
       "      <td>4</td>\n",
       "      <td>2016-12-01</td>\n",
       "    </tr>\n",
       "    <tr>\n",
       "      <th>4</th>\n",
       "      <td>201611</td>\n",
       "      <td>33131</td>\n",
       "      <td>[1. &lt;=25]</td>\n",
       "      <td>[2. &lt;=1500]</td>\n",
       "      <td>F</td>\n",
       "      <td>1.0</td>\n",
       "      <td>1.0</td>\n",
       "      <td>65</td>\n",
       "      <td>2</td>\n",
       "      <td>2016-11-01</td>\n",
       "    </tr>\n",
       "  </tbody>\n",
       "</table>\n",
       "</div>"
      ],
      "text/plain": [
       "   codmes  cliente       edad      ingreso sexo  flgLimaProv  flgAfBxi  monto  \\\n",
       "0  201611    32572  [1. <=25]  [2. <=1500]    F          1.0       1.0     12   \n",
       "1  201611    29843  [1. <=25]  [3. <=2500]    F          0.0       1.0     22   \n",
       "2  201611    30033  [2. <=30]  [2. <=1500]    F          0.0       1.0     10   \n",
       "3  201612     3847  [7. > 55]  [3. <=2500]    M          1.0       0.0    350   \n",
       "4  201611    33131  [1. <=25]  [2. <=1500]    F          1.0       1.0     65   \n",
       "\n",
       "   trx      fecha  \n",
       "0    1 2016-11-01  \n",
       "1    1 2016-11-01  \n",
       "2    1 2016-11-01  \n",
       "3    4 2016-12-01  \n",
       "4    2 2016-11-01  "
      ]
     },
     "execution_count": 6,
     "metadata": {},
     "output_type": "execute_result"
    }
   ],
   "source": [
    "# Creamos un campo de fecha para que nos ayudar a tratar la agregación i disminución de meses\n",
    "dataFrame = pd.DataFrame()\n",
    "dataFrame = dataFramePre.copy()\n",
    "\n",
    "dataFrame['fecha'] = dataFramePre['codmes'].apply(convStrDate)\n",
    "dataFrame['fecha'] = pd.to_datetime(dataFrame['fecha'])\n",
    "dataFrame.head()"
   ]
  },
  {
   "cell_type": "code",
   "execution_count": 7,
   "id": "thorough-tiger",
   "metadata": {
    "execution": {
     "iopub.execute_input": "2021-05-02T20:02:07.626424Z",
     "iopub.status.busy": "2021-05-02T20:02:07.588103Z",
     "iopub.status.idle": "2021-05-02T20:02:07.648309Z",
     "shell.execute_reply": "2021-05-02T20:02:07.648782Z"
    },
    "papermill": {
     "duration": 0.10732,
     "end_time": "2021-05-02T20:02:07.648968",
     "exception": false,
     "start_time": "2021-05-02T20:02:07.541648",
     "status": "completed"
    },
    "tags": []
   },
   "outputs": [
    {
     "name": "stdout",
     "output_type": "stream",
     "text": [
      "<class 'pandas.core.frame.DataFrame'>\n",
      "RangeIndex: 339476 entries, 0 to 339475\n",
      "Data columns (total 10 columns):\n",
      " #   Column       Non-Null Count   Dtype         \n",
      "---  ------       --------------   -----         \n",
      " 0   codmes       339476 non-null  int64         \n",
      " 1   cliente      339476 non-null  int64         \n",
      " 2   edad         326477 non-null  object        \n",
      " 3   ingreso      308148 non-null  object        \n",
      " 4   sexo         327721 non-null  object        \n",
      " 5   flgLimaProv  327725 non-null  float64       \n",
      " 6   flgAfBxi     327725 non-null  float64       \n",
      " 7   monto        339476 non-null  int64         \n",
      " 8   trx          339476 non-null  int64         \n",
      " 9   fecha        339476 non-null  datetime64[ns]\n",
      "dtypes: datetime64[ns](1), float64(2), int64(4), object(3)\n",
      "memory usage: 25.9+ MB\n"
     ]
    }
   ],
   "source": [
    "dataFrame.info()"
   ]
  },
  {
   "cell_type": "code",
   "execution_count": 8,
   "id": "popular-brisbane",
   "metadata": {
    "execution": {
     "iopub.execute_input": "2021-05-02T20:02:07.739583Z",
     "iopub.status.busy": "2021-05-02T20:02:07.738878Z",
     "iopub.status.idle": "2021-05-02T20:02:07.857715Z",
     "shell.execute_reply": "2021-05-02T20:02:07.857077Z"
    },
    "papermill": {
     "duration": 0.168289,
     "end_time": "2021-05-02T20:02:07.857866",
     "exception": false,
     "start_time": "2021-05-02T20:02:07.689577",
     "status": "completed"
    },
    "tags": []
   },
   "outputs": [],
   "source": [
    "# Creamos Base de Datos con las variables de interés:\n",
    "dbGroup = dataFrame.groupby(['fecha','cliente']).agg({'trx':sum,'monto':sum})\n",
    "dbGroup['ind'] = 1\n",
    "dbGroup = dbGroup.reset_index()"
   ]
  },
  {
   "cell_type": "code",
   "execution_count": 9,
   "id": "fourth-toolbox",
   "metadata": {
    "execution": {
     "iopub.execute_input": "2021-05-02T20:02:07.955467Z",
     "iopub.status.busy": "2021-05-02T20:02:07.954872Z",
     "iopub.status.idle": "2021-05-02T20:02:07.962479Z",
     "shell.execute_reply": "2021-05-02T20:02:07.961947Z"
    },
    "papermill": {
     "duration": 0.059015,
     "end_time": "2021-05-02T20:02:07.962621",
     "exception": false,
     "start_time": "2021-05-02T20:02:07.903606",
     "status": "completed"
    },
    "tags": []
   },
   "outputs": [
    {
     "data": {
      "text/html": [
       "<div>\n",
       "<style scoped>\n",
       "    .dataframe tbody tr th:only-of-type {\n",
       "        vertical-align: middle;\n",
       "    }\n",
       "\n",
       "    .dataframe tbody tr th {\n",
       "        vertical-align: top;\n",
       "    }\n",
       "\n",
       "    .dataframe thead th {\n",
       "        text-align: right;\n",
       "    }\n",
       "</style>\n",
       "<table border=\"1\" class=\"dataframe\">\n",
       "  <thead>\n",
       "    <tr style=\"text-align: right;\">\n",
       "      <th></th>\n",
       "      <th>fecha</th>\n",
       "      <th>cliente</th>\n",
       "      <th>trx</th>\n",
       "      <th>monto</th>\n",
       "      <th>ind</th>\n",
       "    </tr>\n",
       "  </thead>\n",
       "  <tbody>\n",
       "    <tr>\n",
       "      <th>0</th>\n",
       "      <td>2016-11-01</td>\n",
       "      <td>1</td>\n",
       "      <td>5</td>\n",
       "      <td>266</td>\n",
       "      <td>1</td>\n",
       "    </tr>\n",
       "    <tr>\n",
       "      <th>1</th>\n",
       "      <td>2016-11-01</td>\n",
       "      <td>2</td>\n",
       "      <td>8</td>\n",
       "      <td>453</td>\n",
       "      <td>1</td>\n",
       "    </tr>\n",
       "    <tr>\n",
       "      <th>2</th>\n",
       "      <td>2016-11-01</td>\n",
       "      <td>3</td>\n",
       "      <td>7</td>\n",
       "      <td>1676</td>\n",
       "      <td>1</td>\n",
       "    </tr>\n",
       "    <tr>\n",
       "      <th>3</th>\n",
       "      <td>2016-11-01</td>\n",
       "      <td>4</td>\n",
       "      <td>15</td>\n",
       "      <td>1186</td>\n",
       "      <td>1</td>\n",
       "    </tr>\n",
       "    <tr>\n",
       "      <th>4</th>\n",
       "      <td>2016-11-01</td>\n",
       "      <td>6</td>\n",
       "      <td>1</td>\n",
       "      <td>4</td>\n",
       "      <td>1</td>\n",
       "    </tr>\n",
       "  </tbody>\n",
       "</table>\n",
       "</div>"
      ],
      "text/plain": [
       "       fecha  cliente  trx  monto  ind\n",
       "0 2016-11-01        1    5    266    1\n",
       "1 2016-11-01        2    8    453    1\n",
       "2 2016-11-01        3    7   1676    1\n",
       "3 2016-11-01        4   15   1186    1\n",
       "4 2016-11-01        6    1      4    1"
      ]
     },
     "execution_count": 9,
     "metadata": {},
     "output_type": "execute_result"
    }
   ],
   "source": [
    "dbGroup.head()"
   ]
  },
  {
   "cell_type": "markdown",
   "id": "covered-murray",
   "metadata": {
    "papermill": {
     "duration": 0.042652,
     "end_time": "2021-05-02T20:02:08.047238",
     "exception": false,
     "start_time": "2021-05-02T20:02:08.004586",
     "status": "completed"
    },
    "tags": []
   },
   "source": [
    "# 4. Universo"
   ]
  },
  {
   "cell_type": "markdown",
   "id": "advisory-return",
   "metadata": {
    "papermill": {
     "duration": 0.044397,
     "end_time": "2021-05-02T20:02:08.137073",
     "exception": false,
     "start_time": "2021-05-02T20:02:08.092676",
     "status": "completed"
    },
    "tags": []
   },
   "source": [
    "Elegiremos una cosecha referente que servirá como nuestro universo de clientes el cual analizaremos su comportamiento, esta cosecha puede ser un mes o varios meses.\n",
    "\n",
    "    Recordar: tiene que ser a nivel de cliente"
   ]
  },
  {
   "cell_type": "code",
   "execution_count": 10,
   "id": "religious-wright",
   "metadata": {
    "execution": {
     "iopub.execute_input": "2021-05-02T20:02:08.232985Z",
     "iopub.status.busy": "2021-05-02T20:02:08.232287Z",
     "iopub.status.idle": "2021-05-02T20:02:08.237830Z",
     "shell.execute_reply": "2021-05-02T20:02:08.238293Z"
    },
    "papermill": {
     "duration": 0.055985,
     "end_time": "2021-05-02T20:02:08.238477",
     "exception": false,
     "start_time": "2021-05-02T20:02:08.182492",
     "status": "completed"
    },
    "tags": []
   },
   "outputs": [
    {
     "name": "stdout",
     "output_type": "stream",
     "text": [
      "2016-11-01 00:00:00\n",
      "2017-10-01 00:00:00\n"
     ]
    }
   ],
   "source": [
    "# Fecha mínima y máximo:\n",
    "print(dbGroup['fecha'].min())\n",
    "print(dbGroup['fecha'].max())"
   ]
  },
  {
   "cell_type": "code",
   "execution_count": 11,
   "id": "latin-archive",
   "metadata": {
    "execution": {
     "iopub.execute_input": "2021-05-02T20:02:08.329302Z",
     "iopub.status.busy": "2021-05-02T20:02:08.328749Z",
     "iopub.status.idle": "2021-05-02T20:02:08.347745Z",
     "shell.execute_reply": "2021-05-02T20:02:08.348204Z"
    },
    "papermill": {
     "duration": 0.065294,
     "end_time": "2021-05-02T20:02:08.348399",
     "exception": false,
     "start_time": "2021-05-02T20:02:08.283105",
     "status": "completed"
    },
    "tags": []
   },
   "outputs": [
    {
     "data": {
      "text/html": [
       "<div>\n",
       "<style scoped>\n",
       "    .dataframe tbody tr th:only-of-type {\n",
       "        vertical-align: middle;\n",
       "    }\n",
       "\n",
       "    .dataframe tbody tr th {\n",
       "        vertical-align: top;\n",
       "    }\n",
       "\n",
       "    .dataframe thead th {\n",
       "        text-align: right;\n",
       "    }\n",
       "</style>\n",
       "<table border=\"1\" class=\"dataframe\">\n",
       "  <thead>\n",
       "    <tr style=\"text-align: right;\">\n",
       "      <th></th>\n",
       "      <th>periodo</th>\n",
       "      <th>cliente</th>\n",
       "    </tr>\n",
       "  </thead>\n",
       "  <tbody>\n",
       "    <tr>\n",
       "      <th>150227</th>\n",
       "      <td>2017-10-01</td>\n",
       "      <td>1</td>\n",
       "    </tr>\n",
       "    <tr>\n",
       "      <th>150228</th>\n",
       "      <td>2017-10-01</td>\n",
       "      <td>2</td>\n",
       "    </tr>\n",
       "    <tr>\n",
       "      <th>150229</th>\n",
       "      <td>2017-10-01</td>\n",
       "      <td>3</td>\n",
       "    </tr>\n",
       "    <tr>\n",
       "      <th>150230</th>\n",
       "      <td>2017-10-01</td>\n",
       "      <td>4</td>\n",
       "    </tr>\n",
       "    <tr>\n",
       "      <th>150231</th>\n",
       "      <td>2017-10-01</td>\n",
       "      <td>5</td>\n",
       "    </tr>\n",
       "  </tbody>\n",
       "</table>\n",
       "</div>"
      ],
      "text/plain": [
       "          periodo  cliente\n",
       "150227 2017-10-01        1\n",
       "150228 2017-10-01        2\n",
       "150229 2017-10-01        3\n",
       "150230 2017-10-01        4\n",
       "150231 2017-10-01        5"
      ]
     },
     "execution_count": 11,
     "metadata": {},
     "output_type": "execute_result"
    }
   ],
   "source": [
    "# Filtramos la cosecha para el universo:\n",
    "dbUniv = dbGroup[dbGroup['fecha']=='2017-10-01']\n",
    "dbUniv = dbUniv.rename(columns={'fecha':'periodo'})\n",
    "dbUniv = dbUniv[['periodo','cliente']]\n",
    "dbUniv.head()"
   ]
  },
  {
   "cell_type": "markdown",
   "id": "marked-procedure",
   "metadata": {
    "papermill": {
     "duration": 0.042601,
     "end_time": "2021-05-02T20:02:08.433775",
     "exception": false,
     "start_time": "2021-05-02T20:02:08.391174",
     "status": "completed"
    },
    "tags": []
   },
   "source": [
    "Para poder relacionar nuestra base Universo con la base histórica de consumo, vamos agregar las fechas anteriores (-1, -2, -3) para que posteriormente podamos hacer merge\n"
   ]
  },
  {
   "cell_type": "code",
   "execution_count": 12,
   "id": "handed-armor",
   "metadata": {
    "execution": {
     "iopub.execute_input": "2021-05-02T20:02:08.524921Z",
     "iopub.status.busy": "2021-05-02T20:02:08.523938Z",
     "iopub.status.idle": "2021-05-02T20:02:09.319536Z",
     "shell.execute_reply": "2021-05-02T20:02:09.318907Z"
    },
    "papermill": {
     "duration": 0.843457,
     "end_time": "2021-05-02T20:02:09.319694",
     "exception": false,
     "start_time": "2021-05-02T20:02:08.476237",
     "status": "completed"
    },
    "tags": []
   },
   "outputs": [
    {
     "data": {
      "text/html": [
       "<div>\n",
       "<style scoped>\n",
       "    .dataframe tbody tr th:only-of-type {\n",
       "        vertical-align: middle;\n",
       "    }\n",
       "\n",
       "    .dataframe tbody tr th {\n",
       "        vertical-align: top;\n",
       "    }\n",
       "\n",
       "    .dataframe thead th {\n",
       "        text-align: right;\n",
       "    }\n",
       "</style>\n",
       "<table border=\"1\" class=\"dataframe\">\n",
       "  <thead>\n",
       "    <tr style=\"text-align: right;\">\n",
       "      <th></th>\n",
       "      <th>periodo</th>\n",
       "      <th>cliente</th>\n",
       "      <th>fec_1</th>\n",
       "      <th>fec_2</th>\n",
       "      <th>fec_3</th>\n",
       "    </tr>\n",
       "  </thead>\n",
       "  <tbody>\n",
       "    <tr>\n",
       "      <th>150227</th>\n",
       "      <td>2017-10-01</td>\n",
       "      <td>1</td>\n",
       "      <td>2017-09-01</td>\n",
       "      <td>2017-08-01</td>\n",
       "      <td>2017-07-01</td>\n",
       "    </tr>\n",
       "    <tr>\n",
       "      <th>150228</th>\n",
       "      <td>2017-10-01</td>\n",
       "      <td>2</td>\n",
       "      <td>2017-09-01</td>\n",
       "      <td>2017-08-01</td>\n",
       "      <td>2017-07-01</td>\n",
       "    </tr>\n",
       "    <tr>\n",
       "      <th>150229</th>\n",
       "      <td>2017-10-01</td>\n",
       "      <td>3</td>\n",
       "      <td>2017-09-01</td>\n",
       "      <td>2017-08-01</td>\n",
       "      <td>2017-07-01</td>\n",
       "    </tr>\n",
       "    <tr>\n",
       "      <th>150230</th>\n",
       "      <td>2017-10-01</td>\n",
       "      <td>4</td>\n",
       "      <td>2017-09-01</td>\n",
       "      <td>2017-08-01</td>\n",
       "      <td>2017-07-01</td>\n",
       "    </tr>\n",
       "    <tr>\n",
       "      <th>150231</th>\n",
       "      <td>2017-10-01</td>\n",
       "      <td>5</td>\n",
       "      <td>2017-09-01</td>\n",
       "      <td>2017-08-01</td>\n",
       "      <td>2017-07-01</td>\n",
       "    </tr>\n",
       "  </tbody>\n",
       "</table>\n",
       "</div>"
      ],
      "text/plain": [
       "          periodo  cliente      fec_1      fec_2      fec_3\n",
       "150227 2017-10-01        1 2017-09-01 2017-08-01 2017-07-01\n",
       "150228 2017-10-01        2 2017-09-01 2017-08-01 2017-07-01\n",
       "150229 2017-10-01        3 2017-09-01 2017-08-01 2017-07-01\n",
       "150230 2017-10-01        4 2017-09-01 2017-08-01 2017-07-01\n",
       "150231 2017-10-01        5 2017-09-01 2017-08-01 2017-07-01"
      ]
     },
     "execution_count": 12,
     "metadata": {},
     "output_type": "execute_result"
    }
   ],
   "source": [
    "# Incluiremos fechas de los 3 últimos meses \n",
    "for i in range(3):\n",
    "    dbUniv['fec_'+str(i+1)] =\\\n",
    "    pd.to_datetime(dbUniv.apply(lambda x: add_months(x['periodo'],-(i+1)),axis=1))\n",
    "dbUniv.head()"
   ]
  },
  {
   "cell_type": "markdown",
   "id": "bizarre-ordering",
   "metadata": {
    "papermill": {
     "duration": 0.043463,
     "end_time": "2021-05-02T20:02:09.405390",
     "exception": false,
     "start_time": "2021-05-02T20:02:09.361927",
     "status": "completed"
    },
    "tags": []
   },
   "source": [
    "# 5. Desarrollo Base de Datos para el RFM+t"
   ]
  },
  {
   "cell_type": "markdown",
   "id": "national-collection",
   "metadata": {
    "papermill": {
     "duration": 0.042311,
     "end_time": "2021-05-02T20:02:09.490830",
     "exception": false,
     "start_time": "2021-05-02T20:02:09.448519",
     "status": "completed"
    },
    "tags": []
   },
   "source": [
    "Pegamos la información de Tenencia y de consumo de los 3 últimos meses"
   ]
  },
  {
   "cell_type": "code",
   "execution_count": 13,
   "id": "virgin-edmonton",
   "metadata": {
    "execution": {
     "iopub.execute_input": "2021-05-02T20:02:09.586870Z",
     "iopub.status.busy": "2021-05-02T20:02:09.586193Z",
     "iopub.status.idle": "2021-05-02T20:02:09.639533Z",
     "shell.execute_reply": "2021-05-02T20:02:09.640071Z"
    },
    "papermill": {
     "duration": 0.106029,
     "end_time": "2021-05-02T20:02:09.640244",
     "exception": false,
     "start_time": "2021-05-02T20:02:09.534215",
     "status": "completed"
    },
    "tags": []
   },
   "outputs": [
    {
     "data": {
      "text/html": [
       "<div>\n",
       "<style scoped>\n",
       "    .dataframe tbody tr th:only-of-type {\n",
       "        vertical-align: middle;\n",
       "    }\n",
       "\n",
       "    .dataframe tbody tr th {\n",
       "        vertical-align: top;\n",
       "    }\n",
       "\n",
       "    .dataframe thead th {\n",
       "        text-align: right;\n",
       "    }\n",
       "</style>\n",
       "<table border=\"1\" class=\"dataframe\">\n",
       "  <thead>\n",
       "    <tr style=\"text-align: right;\">\n",
       "      <th></th>\n",
       "      <th>periodo</th>\n",
       "      <th>cliente</th>\n",
       "      <th>fec_1</th>\n",
       "      <th>fec_2</th>\n",
       "      <th>fec_3</th>\n",
       "      <th>fecha</th>\n",
       "      <th>monto</th>\n",
       "      <th>trx</th>\n",
       "      <th>ind</th>\n",
       "    </tr>\n",
       "  </thead>\n",
       "  <tbody>\n",
       "    <tr>\n",
       "      <th>0</th>\n",
       "      <td>2017-10-01</td>\n",
       "      <td>1</td>\n",
       "      <td>2017-09-01</td>\n",
       "      <td>2017-08-01</td>\n",
       "      <td>2017-07-01</td>\n",
       "      <td>NaT</td>\n",
       "      <td>NaN</td>\n",
       "      <td>NaN</td>\n",
       "      <td>NaN</td>\n",
       "    </tr>\n",
       "    <tr>\n",
       "      <th>1</th>\n",
       "      <td>2017-10-01</td>\n",
       "      <td>2</td>\n",
       "      <td>2017-09-01</td>\n",
       "      <td>2017-08-01</td>\n",
       "      <td>2017-07-01</td>\n",
       "      <td>2017-09-01</td>\n",
       "      <td>228.0</td>\n",
       "      <td>1.0</td>\n",
       "      <td>1.0</td>\n",
       "    </tr>\n",
       "    <tr>\n",
       "      <th>2</th>\n",
       "      <td>2017-10-01</td>\n",
       "      <td>3</td>\n",
       "      <td>2017-09-01</td>\n",
       "      <td>2017-08-01</td>\n",
       "      <td>2017-07-01</td>\n",
       "      <td>2017-09-01</td>\n",
       "      <td>1691.0</td>\n",
       "      <td>9.0</td>\n",
       "      <td>1.0</td>\n",
       "    </tr>\n",
       "    <tr>\n",
       "      <th>3</th>\n",
       "      <td>2017-10-01</td>\n",
       "      <td>4</td>\n",
       "      <td>2017-09-01</td>\n",
       "      <td>2017-08-01</td>\n",
       "      <td>2017-07-01</td>\n",
       "      <td>2017-09-01</td>\n",
       "      <td>2650.0</td>\n",
       "      <td>16.0</td>\n",
       "      <td>1.0</td>\n",
       "    </tr>\n",
       "    <tr>\n",
       "      <th>4</th>\n",
       "      <td>2017-10-01</td>\n",
       "      <td>5</td>\n",
       "      <td>2017-09-01</td>\n",
       "      <td>2017-08-01</td>\n",
       "      <td>2017-07-01</td>\n",
       "      <td>NaT</td>\n",
       "      <td>NaN</td>\n",
       "      <td>NaN</td>\n",
       "      <td>NaN</td>\n",
       "    </tr>\n",
       "  </tbody>\n",
       "</table>\n",
       "</div>"
      ],
      "text/plain": [
       "     periodo  cliente      fec_1      fec_2      fec_3      fecha   monto  \\\n",
       "0 2017-10-01        1 2017-09-01 2017-08-01 2017-07-01        NaT     NaN   \n",
       "1 2017-10-01        2 2017-09-01 2017-08-01 2017-07-01 2017-09-01   228.0   \n",
       "2 2017-10-01        3 2017-09-01 2017-08-01 2017-07-01 2017-09-01  1691.0   \n",
       "3 2017-10-01        4 2017-09-01 2017-08-01 2017-07-01 2017-09-01  2650.0   \n",
       "4 2017-10-01        5 2017-09-01 2017-08-01 2017-07-01        NaT     NaN   \n",
       "\n",
       "    trx  ind  \n",
       "0   NaN  NaN  \n",
       "1   1.0  1.0  \n",
       "2   9.0  1.0  \n",
       "3  16.0  1.0  \n",
       "4   NaN  NaN  "
      ]
     },
     "execution_count": 13,
     "metadata": {},
     "output_type": "execute_result"
    }
   ],
   "source": [
    "dbFinal = pd.merge(dbUniv,dbGroup[['fecha','cliente','monto','trx','ind']], how='left',\n",
    "                   left_on=['fec_1','cliente'],right_on = ['fecha','cliente'])\n",
    "dbFinal.head()"
   ]
  },
  {
   "cell_type": "code",
   "execution_count": 14,
   "id": "bridal-hungary",
   "metadata": {
    "execution": {
     "iopub.execute_input": "2021-05-02T20:02:09.728803Z",
     "iopub.status.busy": "2021-05-02T20:02:09.728143Z",
     "iopub.status.idle": "2021-05-02T20:02:09.784655Z",
     "shell.execute_reply": "2021-05-02T20:02:09.785125Z"
    },
    "papermill": {
     "duration": 0.102455,
     "end_time": "2021-05-02T20:02:09.785291",
     "exception": false,
     "start_time": "2021-05-02T20:02:09.682836",
     "status": "completed"
    },
    "tags": []
   },
   "outputs": [
    {
     "data": {
      "text/html": [
       "<div>\n",
       "<style scoped>\n",
       "    .dataframe tbody tr th:only-of-type {\n",
       "        vertical-align: middle;\n",
       "    }\n",
       "\n",
       "    .dataframe tbody tr th {\n",
       "        vertical-align: top;\n",
       "    }\n",
       "\n",
       "    .dataframe thead th {\n",
       "        text-align: right;\n",
       "    }\n",
       "</style>\n",
       "<table border=\"1\" class=\"dataframe\">\n",
       "  <thead>\n",
       "    <tr style=\"text-align: right;\">\n",
       "      <th></th>\n",
       "      <th>periodo</th>\n",
       "      <th>cliente</th>\n",
       "      <th>fec_1</th>\n",
       "      <th>fec_2</th>\n",
       "      <th>fec_3</th>\n",
       "      <th>fecha_x</th>\n",
       "      <th>monto_x</th>\n",
       "      <th>trx_x</th>\n",
       "      <th>ind_x</th>\n",
       "      <th>fecha_y</th>\n",
       "      <th>monto_y</th>\n",
       "      <th>trx_y</th>\n",
       "      <th>ind_y</th>\n",
       "    </tr>\n",
       "  </thead>\n",
       "  <tbody>\n",
       "    <tr>\n",
       "      <th>0</th>\n",
       "      <td>2017-10-01</td>\n",
       "      <td>1</td>\n",
       "      <td>2017-09-01</td>\n",
       "      <td>2017-08-01</td>\n",
       "      <td>2017-07-01</td>\n",
       "      <td>NaT</td>\n",
       "      <td>NaN</td>\n",
       "      <td>NaN</td>\n",
       "      <td>NaN</td>\n",
       "      <td>2017-08-01</td>\n",
       "      <td>210.0</td>\n",
       "      <td>2.0</td>\n",
       "      <td>1.0</td>\n",
       "    </tr>\n",
       "    <tr>\n",
       "      <th>1</th>\n",
       "      <td>2017-10-01</td>\n",
       "      <td>2</td>\n",
       "      <td>2017-09-01</td>\n",
       "      <td>2017-08-01</td>\n",
       "      <td>2017-07-01</td>\n",
       "      <td>2017-09-01</td>\n",
       "      <td>228.0</td>\n",
       "      <td>1.0</td>\n",
       "      <td>1.0</td>\n",
       "      <td>NaT</td>\n",
       "      <td>NaN</td>\n",
       "      <td>NaN</td>\n",
       "      <td>NaN</td>\n",
       "    </tr>\n",
       "    <tr>\n",
       "      <th>2</th>\n",
       "      <td>2017-10-01</td>\n",
       "      <td>3</td>\n",
       "      <td>2017-09-01</td>\n",
       "      <td>2017-08-01</td>\n",
       "      <td>2017-07-01</td>\n",
       "      <td>2017-09-01</td>\n",
       "      <td>1691.0</td>\n",
       "      <td>9.0</td>\n",
       "      <td>1.0</td>\n",
       "      <td>2017-08-01</td>\n",
       "      <td>586.0</td>\n",
       "      <td>2.0</td>\n",
       "      <td>1.0</td>\n",
       "    </tr>\n",
       "    <tr>\n",
       "      <th>3</th>\n",
       "      <td>2017-10-01</td>\n",
       "      <td>4</td>\n",
       "      <td>2017-09-01</td>\n",
       "      <td>2017-08-01</td>\n",
       "      <td>2017-07-01</td>\n",
       "      <td>2017-09-01</td>\n",
       "      <td>2650.0</td>\n",
       "      <td>16.0</td>\n",
       "      <td>1.0</td>\n",
       "      <td>2017-08-01</td>\n",
       "      <td>1701.0</td>\n",
       "      <td>11.0</td>\n",
       "      <td>1.0</td>\n",
       "    </tr>\n",
       "    <tr>\n",
       "      <th>4</th>\n",
       "      <td>2017-10-01</td>\n",
       "      <td>5</td>\n",
       "      <td>2017-09-01</td>\n",
       "      <td>2017-08-01</td>\n",
       "      <td>2017-07-01</td>\n",
       "      <td>NaT</td>\n",
       "      <td>NaN</td>\n",
       "      <td>NaN</td>\n",
       "      <td>NaN</td>\n",
       "      <td>2017-08-01</td>\n",
       "      <td>7.0</td>\n",
       "      <td>1.0</td>\n",
       "      <td>1.0</td>\n",
       "    </tr>\n",
       "  </tbody>\n",
       "</table>\n",
       "</div>"
      ],
      "text/plain": [
       "     periodo  cliente      fec_1      fec_2      fec_3    fecha_x  monto_x  \\\n",
       "0 2017-10-01        1 2017-09-01 2017-08-01 2017-07-01        NaT      NaN   \n",
       "1 2017-10-01        2 2017-09-01 2017-08-01 2017-07-01 2017-09-01    228.0   \n",
       "2 2017-10-01        3 2017-09-01 2017-08-01 2017-07-01 2017-09-01   1691.0   \n",
       "3 2017-10-01        4 2017-09-01 2017-08-01 2017-07-01 2017-09-01   2650.0   \n",
       "4 2017-10-01        5 2017-09-01 2017-08-01 2017-07-01        NaT      NaN   \n",
       "\n",
       "   trx_x  ind_x    fecha_y  monto_y  trx_y  ind_y  \n",
       "0    NaN    NaN 2017-08-01    210.0    2.0    1.0  \n",
       "1    1.0    1.0        NaT      NaN    NaN    NaN  \n",
       "2    9.0    1.0 2017-08-01    586.0    2.0    1.0  \n",
       "3   16.0    1.0 2017-08-01   1701.0   11.0    1.0  \n",
       "4    NaN    NaN 2017-08-01      7.0    1.0    1.0  "
      ]
     },
     "execution_count": 14,
     "metadata": {},
     "output_type": "execute_result"
    }
   ],
   "source": [
    "dbFinal = pd.merge(dbFinal,dbGroup[['fecha','cliente','monto','trx','ind']], how='left',\n",
    "                   left_on=['fec_2','cliente'],right_on = ['fecha','cliente'])\n",
    "dbFinal.head()"
   ]
  },
  {
   "cell_type": "code",
   "execution_count": 15,
   "id": "unlikely-snapshot",
   "metadata": {
    "execution": {
     "iopub.execute_input": "2021-05-02T20:02:09.883382Z",
     "iopub.status.busy": "2021-05-02T20:02:09.882309Z",
     "iopub.status.idle": "2021-05-02T20:02:09.931800Z",
     "shell.execute_reply": "2021-05-02T20:02:09.932368Z"
    },
    "papermill": {
     "duration": 0.102299,
     "end_time": "2021-05-02T20:02:09.932551",
     "exception": false,
     "start_time": "2021-05-02T20:02:09.830252",
     "status": "completed"
    },
    "tags": []
   },
   "outputs": [
    {
     "data": {
      "text/html": [
       "<div>\n",
       "<style scoped>\n",
       "    .dataframe tbody tr th:only-of-type {\n",
       "        vertical-align: middle;\n",
       "    }\n",
       "\n",
       "    .dataframe tbody tr th {\n",
       "        vertical-align: top;\n",
       "    }\n",
       "\n",
       "    .dataframe thead th {\n",
       "        text-align: right;\n",
       "    }\n",
       "</style>\n",
       "<table border=\"1\" class=\"dataframe\">\n",
       "  <thead>\n",
       "    <tr style=\"text-align: right;\">\n",
       "      <th></th>\n",
       "      <th>periodo</th>\n",
       "      <th>cliente</th>\n",
       "      <th>fec_1</th>\n",
       "      <th>fec_2</th>\n",
       "      <th>fec_3</th>\n",
       "      <th>fecha_x</th>\n",
       "      <th>monto_x</th>\n",
       "      <th>trx_x</th>\n",
       "      <th>ind_x</th>\n",
       "      <th>fecha_y</th>\n",
       "      <th>monto_y</th>\n",
       "      <th>trx_y</th>\n",
       "      <th>ind_y</th>\n",
       "      <th>fecha</th>\n",
       "      <th>monto</th>\n",
       "      <th>trx</th>\n",
       "      <th>ind</th>\n",
       "    </tr>\n",
       "  </thead>\n",
       "  <tbody>\n",
       "    <tr>\n",
       "      <th>0</th>\n",
       "      <td>2017-10-01</td>\n",
       "      <td>1</td>\n",
       "      <td>2017-09-01</td>\n",
       "      <td>2017-08-01</td>\n",
       "      <td>2017-07-01</td>\n",
       "      <td>NaT</td>\n",
       "      <td>NaN</td>\n",
       "      <td>NaN</td>\n",
       "      <td>NaN</td>\n",
       "      <td>2017-08-01</td>\n",
       "      <td>210.0</td>\n",
       "      <td>2.0</td>\n",
       "      <td>1.0</td>\n",
       "      <td>2017-07-01</td>\n",
       "      <td>346.0</td>\n",
       "      <td>5.0</td>\n",
       "      <td>1.0</td>\n",
       "    </tr>\n",
       "    <tr>\n",
       "      <th>1</th>\n",
       "      <td>2017-10-01</td>\n",
       "      <td>2</td>\n",
       "      <td>2017-09-01</td>\n",
       "      <td>2017-08-01</td>\n",
       "      <td>2017-07-01</td>\n",
       "      <td>2017-09-01</td>\n",
       "      <td>228.0</td>\n",
       "      <td>1.0</td>\n",
       "      <td>1.0</td>\n",
       "      <td>NaT</td>\n",
       "      <td>NaN</td>\n",
       "      <td>NaN</td>\n",
       "      <td>NaN</td>\n",
       "      <td>NaT</td>\n",
       "      <td>NaN</td>\n",
       "      <td>NaN</td>\n",
       "      <td>NaN</td>\n",
       "    </tr>\n",
       "    <tr>\n",
       "      <th>2</th>\n",
       "      <td>2017-10-01</td>\n",
       "      <td>3</td>\n",
       "      <td>2017-09-01</td>\n",
       "      <td>2017-08-01</td>\n",
       "      <td>2017-07-01</td>\n",
       "      <td>2017-09-01</td>\n",
       "      <td>1691.0</td>\n",
       "      <td>9.0</td>\n",
       "      <td>1.0</td>\n",
       "      <td>2017-08-01</td>\n",
       "      <td>586.0</td>\n",
       "      <td>2.0</td>\n",
       "      <td>1.0</td>\n",
       "      <td>2017-07-01</td>\n",
       "      <td>255.0</td>\n",
       "      <td>2.0</td>\n",
       "      <td>1.0</td>\n",
       "    </tr>\n",
       "    <tr>\n",
       "      <th>3</th>\n",
       "      <td>2017-10-01</td>\n",
       "      <td>4</td>\n",
       "      <td>2017-09-01</td>\n",
       "      <td>2017-08-01</td>\n",
       "      <td>2017-07-01</td>\n",
       "      <td>2017-09-01</td>\n",
       "      <td>2650.0</td>\n",
       "      <td>16.0</td>\n",
       "      <td>1.0</td>\n",
       "      <td>2017-08-01</td>\n",
       "      <td>1701.0</td>\n",
       "      <td>11.0</td>\n",
       "      <td>1.0</td>\n",
       "      <td>2017-07-01</td>\n",
       "      <td>601.0</td>\n",
       "      <td>8.0</td>\n",
       "      <td>1.0</td>\n",
       "    </tr>\n",
       "    <tr>\n",
       "      <th>4</th>\n",
       "      <td>2017-10-01</td>\n",
       "      <td>5</td>\n",
       "      <td>2017-09-01</td>\n",
       "      <td>2017-08-01</td>\n",
       "      <td>2017-07-01</td>\n",
       "      <td>NaT</td>\n",
       "      <td>NaN</td>\n",
       "      <td>NaN</td>\n",
       "      <td>NaN</td>\n",
       "      <td>2017-08-01</td>\n",
       "      <td>7.0</td>\n",
       "      <td>1.0</td>\n",
       "      <td>1.0</td>\n",
       "      <td>NaT</td>\n",
       "      <td>NaN</td>\n",
       "      <td>NaN</td>\n",
       "      <td>NaN</td>\n",
       "    </tr>\n",
       "  </tbody>\n",
       "</table>\n",
       "</div>"
      ],
      "text/plain": [
       "     periodo  cliente      fec_1      fec_2      fec_3    fecha_x  monto_x  \\\n",
       "0 2017-10-01        1 2017-09-01 2017-08-01 2017-07-01        NaT      NaN   \n",
       "1 2017-10-01        2 2017-09-01 2017-08-01 2017-07-01 2017-09-01    228.0   \n",
       "2 2017-10-01        3 2017-09-01 2017-08-01 2017-07-01 2017-09-01   1691.0   \n",
       "3 2017-10-01        4 2017-09-01 2017-08-01 2017-07-01 2017-09-01   2650.0   \n",
       "4 2017-10-01        5 2017-09-01 2017-08-01 2017-07-01        NaT      NaN   \n",
       "\n",
       "   trx_x  ind_x    fecha_y  monto_y  trx_y  ind_y      fecha  monto  trx  ind  \n",
       "0    NaN    NaN 2017-08-01    210.0    2.0    1.0 2017-07-01  346.0  5.0  1.0  \n",
       "1    1.0    1.0        NaT      NaN    NaN    NaN        NaT    NaN  NaN  NaN  \n",
       "2    9.0    1.0 2017-08-01    586.0    2.0    1.0 2017-07-01  255.0  2.0  1.0  \n",
       "3   16.0    1.0 2017-08-01   1701.0   11.0    1.0 2017-07-01  601.0  8.0  1.0  \n",
       "4    NaN    NaN 2017-08-01      7.0    1.0    1.0        NaT    NaN  NaN  NaN  "
      ]
     },
     "execution_count": 15,
     "metadata": {},
     "output_type": "execute_result"
    }
   ],
   "source": [
    "dbFinal = pd.merge(dbFinal,dbGroup[['fecha','cliente','monto','trx','ind']], how='left',\n",
    "                   left_on=['fec_3','cliente'],right_on = ['fecha','cliente'])\n",
    "dbFinal.head()"
   ]
  },
  {
   "cell_type": "code",
   "execution_count": 16,
   "id": "compliant-ethnic",
   "metadata": {
    "execution": {
     "iopub.execute_input": "2021-05-02T20:02:10.029819Z",
     "iopub.status.busy": "2021-05-02T20:02:10.028767Z",
     "iopub.status.idle": "2021-05-02T20:02:10.086534Z",
     "shell.execute_reply": "2021-05-02T20:02:10.085747Z"
    },
    "papermill": {
     "duration": 0.109854,
     "end_time": "2021-05-02T20:02:10.086708",
     "exception": false,
     "start_time": "2021-05-02T20:02:09.976854",
     "status": "completed"
    },
    "tags": []
   },
   "outputs": [
    {
     "data": {
      "text/html": [
       "<div>\n",
       "<style scoped>\n",
       "    .dataframe tbody tr th:only-of-type {\n",
       "        vertical-align: middle;\n",
       "    }\n",
       "\n",
       "    .dataframe tbody tr th {\n",
       "        vertical-align: top;\n",
       "    }\n",
       "\n",
       "    .dataframe thead th {\n",
       "        text-align: right;\n",
       "    }\n",
       "</style>\n",
       "<table border=\"1\" class=\"dataframe\">\n",
       "  <thead>\n",
       "    <tr style=\"text-align: right;\">\n",
       "      <th></th>\n",
       "      <th>periodo</th>\n",
       "      <th>cliente</th>\n",
       "      <th>fec_1</th>\n",
       "      <th>fec_2</th>\n",
       "      <th>fec_3</th>\n",
       "      <th>fecha_x</th>\n",
       "      <th>monto_x</th>\n",
       "      <th>trx_x</th>\n",
       "      <th>ind_x</th>\n",
       "      <th>fecha_y</th>\n",
       "      <th>...</th>\n",
       "      <th>fecha</th>\n",
       "      <th>monto</th>\n",
       "      <th>trx</th>\n",
       "      <th>ind</th>\n",
       "      <th>M_1</th>\n",
       "      <th>monto_1</th>\n",
       "      <th>M_2</th>\n",
       "      <th>monto_2</th>\n",
       "      <th>M_3</th>\n",
       "      <th>monto_3</th>\n",
       "    </tr>\n",
       "  </thead>\n",
       "  <tbody>\n",
       "    <tr>\n",
       "      <th>0</th>\n",
       "      <td>2017-10-01</td>\n",
       "      <td>1</td>\n",
       "      <td>2017-09-01</td>\n",
       "      <td>2017-08-01</td>\n",
       "      <td>2017-07-01</td>\n",
       "      <td>NaT</td>\n",
       "      <td>NaN</td>\n",
       "      <td>NaN</td>\n",
       "      <td>NaN</td>\n",
       "      <td>2017-08-01</td>\n",
       "      <td>...</td>\n",
       "      <td>2017-07-01</td>\n",
       "      <td>346.0</td>\n",
       "      <td>5.0</td>\n",
       "      <td>1.0</td>\n",
       "      <td>0</td>\n",
       "      <td>0.0</td>\n",
       "      <td>1</td>\n",
       "      <td>210.0</td>\n",
       "      <td>1</td>\n",
       "      <td>346.0</td>\n",
       "    </tr>\n",
       "    <tr>\n",
       "      <th>1</th>\n",
       "      <td>2017-10-01</td>\n",
       "      <td>2</td>\n",
       "      <td>2017-09-01</td>\n",
       "      <td>2017-08-01</td>\n",
       "      <td>2017-07-01</td>\n",
       "      <td>2017-09-01</td>\n",
       "      <td>228.0</td>\n",
       "      <td>1.0</td>\n",
       "      <td>1.0</td>\n",
       "      <td>NaT</td>\n",
       "      <td>...</td>\n",
       "      <td>NaT</td>\n",
       "      <td>NaN</td>\n",
       "      <td>NaN</td>\n",
       "      <td>NaN</td>\n",
       "      <td>1</td>\n",
       "      <td>228.0</td>\n",
       "      <td>0</td>\n",
       "      <td>0.0</td>\n",
       "      <td>0</td>\n",
       "      <td>0.0</td>\n",
       "    </tr>\n",
       "    <tr>\n",
       "      <th>2</th>\n",
       "      <td>2017-10-01</td>\n",
       "      <td>3</td>\n",
       "      <td>2017-09-01</td>\n",
       "      <td>2017-08-01</td>\n",
       "      <td>2017-07-01</td>\n",
       "      <td>2017-09-01</td>\n",
       "      <td>1691.0</td>\n",
       "      <td>9.0</td>\n",
       "      <td>1.0</td>\n",
       "      <td>2017-08-01</td>\n",
       "      <td>...</td>\n",
       "      <td>2017-07-01</td>\n",
       "      <td>255.0</td>\n",
       "      <td>2.0</td>\n",
       "      <td>1.0</td>\n",
       "      <td>1</td>\n",
       "      <td>1691.0</td>\n",
       "      <td>1</td>\n",
       "      <td>586.0</td>\n",
       "      <td>1</td>\n",
       "      <td>255.0</td>\n",
       "    </tr>\n",
       "    <tr>\n",
       "      <th>3</th>\n",
       "      <td>2017-10-01</td>\n",
       "      <td>4</td>\n",
       "      <td>2017-09-01</td>\n",
       "      <td>2017-08-01</td>\n",
       "      <td>2017-07-01</td>\n",
       "      <td>2017-09-01</td>\n",
       "      <td>2650.0</td>\n",
       "      <td>16.0</td>\n",
       "      <td>1.0</td>\n",
       "      <td>2017-08-01</td>\n",
       "      <td>...</td>\n",
       "      <td>2017-07-01</td>\n",
       "      <td>601.0</td>\n",
       "      <td>8.0</td>\n",
       "      <td>1.0</td>\n",
       "      <td>1</td>\n",
       "      <td>2650.0</td>\n",
       "      <td>1</td>\n",
       "      <td>1701.0</td>\n",
       "      <td>1</td>\n",
       "      <td>601.0</td>\n",
       "    </tr>\n",
       "    <tr>\n",
       "      <th>4</th>\n",
       "      <td>2017-10-01</td>\n",
       "      <td>5</td>\n",
       "      <td>2017-09-01</td>\n",
       "      <td>2017-08-01</td>\n",
       "      <td>2017-07-01</td>\n",
       "      <td>NaT</td>\n",
       "      <td>NaN</td>\n",
       "      <td>NaN</td>\n",
       "      <td>NaN</td>\n",
       "      <td>2017-08-01</td>\n",
       "      <td>...</td>\n",
       "      <td>NaT</td>\n",
       "      <td>NaN</td>\n",
       "      <td>NaN</td>\n",
       "      <td>NaN</td>\n",
       "      <td>0</td>\n",
       "      <td>0.0</td>\n",
       "      <td>1</td>\n",
       "      <td>7.0</td>\n",
       "      <td>0</td>\n",
       "      <td>0.0</td>\n",
       "    </tr>\n",
       "  </tbody>\n",
       "</table>\n",
       "<p>5 rows × 23 columns</p>\n",
       "</div>"
      ],
      "text/plain": [
       "     periodo  cliente      fec_1      fec_2      fec_3    fecha_x  monto_x  \\\n",
       "0 2017-10-01        1 2017-09-01 2017-08-01 2017-07-01        NaT      NaN   \n",
       "1 2017-10-01        2 2017-09-01 2017-08-01 2017-07-01 2017-09-01    228.0   \n",
       "2 2017-10-01        3 2017-09-01 2017-08-01 2017-07-01 2017-09-01   1691.0   \n",
       "3 2017-10-01        4 2017-09-01 2017-08-01 2017-07-01 2017-09-01   2650.0   \n",
       "4 2017-10-01        5 2017-09-01 2017-08-01 2017-07-01        NaT      NaN   \n",
       "\n",
       "   trx_x  ind_x    fecha_y  ...      fecha  monto  trx  ind  M_1  monto_1  \\\n",
       "0    NaN    NaN 2017-08-01  ... 2017-07-01  346.0  5.0  1.0    0      0.0   \n",
       "1    1.0    1.0        NaT  ...        NaT    NaN  NaN  NaN    1    228.0   \n",
       "2    9.0    1.0 2017-08-01  ... 2017-07-01  255.0  2.0  1.0    1   1691.0   \n",
       "3   16.0    1.0 2017-08-01  ... 2017-07-01  601.0  8.0  1.0    1   2650.0   \n",
       "4    NaN    NaN 2017-08-01  ...        NaT    NaN  NaN  NaN    0      0.0   \n",
       "\n",
       "   M_2  monto_2  M_3  monto_3  \n",
       "0    1    210.0    1    346.0  \n",
       "1    0      0.0    0      0.0  \n",
       "2    1    586.0    1    255.0  \n",
       "3    1   1701.0    1    601.0  \n",
       "4    1      7.0    0      0.0  \n",
       "\n",
       "[5 rows x 23 columns]"
      ]
     },
     "execution_count": 16,
     "metadata": {},
     "output_type": "execute_result"
    }
   ],
   "source": [
    "dbFinal['M_1'] = dbFinal['ind_x'].apply(lambda x: 1 if x==1 else 0)\n",
    "dbFinal['monto_1'] = dbFinal['monto_x'].fillna(0)\n",
    "\n",
    "dbFinal['M_2'] = dbFinal['ind_y'].apply(lambda x: 1 if x==1 else 0)\n",
    "dbFinal['monto_2'] = dbFinal['monto_y'].fillna(0)\n",
    "\n",
    "dbFinal['M_3'] = dbFinal['ind'].apply(lambda x: 1 if x==1 else 0)\n",
    "dbFinal['monto_3'] = dbFinal['monto'].fillna(0)\n",
    "\n",
    "dbFinal.head()"
   ]
  },
  {
   "cell_type": "markdown",
   "id": "quarterly-adventure",
   "metadata": {
    "papermill": {
     "duration": 0.046858,
     "end_time": "2021-05-02T20:02:10.178785",
     "exception": false,
     "start_time": "2021-05-02T20:02:10.131927",
     "status": "completed"
    },
    "tags": []
   },
   "source": [
    "#### Agregando la variable trx"
   ]
  },
  {
   "cell_type": "markdown",
   "id": "parallel-estate",
   "metadata": {
    "papermill": {
     "duration": 0.044403,
     "end_time": "2021-05-02T20:02:10.267611",
     "exception": false,
     "start_time": "2021-05-02T20:02:10.223208",
     "status": "completed"
    },
    "tags": []
   },
   "source": [
    "trx_x, trx_y y trx son las transacciones de los meses anteriores. Por ello, crearemos una columna que sea la suma y represente todas las transacciones de los 3 meses de consumo.\n",
    "\n",
    "Para ello primero imputaremos los valores nulos de cada columna trx_x, trx_y y trx para evitar errores en la suma total.\n"
   ]
  },
  {
   "cell_type": "code",
   "execution_count": 17,
   "id": "dried-profit",
   "metadata": {
    "execution": {
     "iopub.execute_input": "2021-05-02T20:02:10.363908Z",
     "iopub.status.busy": "2021-05-02T20:02:10.362717Z",
     "iopub.status.idle": "2021-05-02T20:02:10.370859Z",
     "shell.execute_reply": "2021-05-02T20:02:10.370210Z"
    },
    "papermill": {
     "duration": 0.058884,
     "end_time": "2021-05-02T20:02:10.370995",
     "exception": false,
     "start_time": "2021-05-02T20:02:10.312111",
     "status": "completed"
    },
    "tags": []
   },
   "outputs": [],
   "source": [
    "dbFinal = dbFinal.fillna({'trx_x': 0})\n",
    "dbFinal = dbFinal.fillna({'trx_y': 0})\n",
    "dbFinal = dbFinal.fillna({'trx': 0})"
   ]
  },
  {
   "cell_type": "markdown",
   "id": "urban-platinum",
   "metadata": {
    "papermill": {
     "duration": 0.043766,
     "end_time": "2021-05-02T20:02:10.458943",
     "exception": false,
     "start_time": "2021-05-02T20:02:10.415177",
     "status": "completed"
    },
    "tags": []
   },
   "source": [
    "Agregamos la variable trxSum: Suma del número de transacciones.\n",
    "\n",
    "Sumamos todas las transacciones de los 3 meses de consumo."
   ]
  },
  {
   "cell_type": "code",
   "execution_count": 18,
   "id": "banned-wedding",
   "metadata": {
    "execution": {
     "iopub.execute_input": "2021-05-02T20:02:10.552893Z",
     "iopub.status.busy": "2021-05-02T20:02:10.552262Z",
     "iopub.status.idle": "2021-05-02T20:02:10.601353Z",
     "shell.execute_reply": "2021-05-02T20:02:10.600824Z"
    },
    "papermill": {
     "duration": 0.098482,
     "end_time": "2021-05-02T20:02:10.601499",
     "exception": false,
     "start_time": "2021-05-02T20:02:10.503017",
     "status": "completed"
    },
    "tags": []
   },
   "outputs": [
    {
     "data": {
      "text/html": [
       "<div>\n",
       "<style scoped>\n",
       "    .dataframe tbody tr th:only-of-type {\n",
       "        vertical-align: middle;\n",
       "    }\n",
       "\n",
       "    .dataframe tbody tr th {\n",
       "        vertical-align: top;\n",
       "    }\n",
       "\n",
       "    .dataframe thead th {\n",
       "        text-align: right;\n",
       "    }\n",
       "</style>\n",
       "<table border=\"1\" class=\"dataframe\">\n",
       "  <thead>\n",
       "    <tr style=\"text-align: right;\">\n",
       "      <th></th>\n",
       "      <th>periodo</th>\n",
       "      <th>cliente</th>\n",
       "      <th>fec_1</th>\n",
       "      <th>fec_2</th>\n",
       "      <th>fec_3</th>\n",
       "      <th>fecha_x</th>\n",
       "      <th>monto_x</th>\n",
       "      <th>trx_x</th>\n",
       "      <th>ind_x</th>\n",
       "      <th>fecha_y</th>\n",
       "      <th>...</th>\n",
       "      <th>monto</th>\n",
       "      <th>trx</th>\n",
       "      <th>ind</th>\n",
       "      <th>M_1</th>\n",
       "      <th>monto_1</th>\n",
       "      <th>M_2</th>\n",
       "      <th>monto_2</th>\n",
       "      <th>M_3</th>\n",
       "      <th>monto_3</th>\n",
       "      <th>trxSum</th>\n",
       "    </tr>\n",
       "  </thead>\n",
       "  <tbody>\n",
       "    <tr>\n",
       "      <th>0</th>\n",
       "      <td>2017-10-01</td>\n",
       "      <td>1</td>\n",
       "      <td>2017-09-01</td>\n",
       "      <td>2017-08-01</td>\n",
       "      <td>2017-07-01</td>\n",
       "      <td>NaT</td>\n",
       "      <td>NaN</td>\n",
       "      <td>0.0</td>\n",
       "      <td>NaN</td>\n",
       "      <td>2017-08-01</td>\n",
       "      <td>...</td>\n",
       "      <td>346.0</td>\n",
       "      <td>5.0</td>\n",
       "      <td>1.0</td>\n",
       "      <td>0</td>\n",
       "      <td>0.0</td>\n",
       "      <td>1</td>\n",
       "      <td>210.0</td>\n",
       "      <td>1</td>\n",
       "      <td>346.0</td>\n",
       "      <td>7.0</td>\n",
       "    </tr>\n",
       "    <tr>\n",
       "      <th>1</th>\n",
       "      <td>2017-10-01</td>\n",
       "      <td>2</td>\n",
       "      <td>2017-09-01</td>\n",
       "      <td>2017-08-01</td>\n",
       "      <td>2017-07-01</td>\n",
       "      <td>2017-09-01</td>\n",
       "      <td>228.0</td>\n",
       "      <td>1.0</td>\n",
       "      <td>1.0</td>\n",
       "      <td>NaT</td>\n",
       "      <td>...</td>\n",
       "      <td>NaN</td>\n",
       "      <td>0.0</td>\n",
       "      <td>NaN</td>\n",
       "      <td>1</td>\n",
       "      <td>228.0</td>\n",
       "      <td>0</td>\n",
       "      <td>0.0</td>\n",
       "      <td>0</td>\n",
       "      <td>0.0</td>\n",
       "      <td>1.0</td>\n",
       "    </tr>\n",
       "    <tr>\n",
       "      <th>2</th>\n",
       "      <td>2017-10-01</td>\n",
       "      <td>3</td>\n",
       "      <td>2017-09-01</td>\n",
       "      <td>2017-08-01</td>\n",
       "      <td>2017-07-01</td>\n",
       "      <td>2017-09-01</td>\n",
       "      <td>1691.0</td>\n",
       "      <td>9.0</td>\n",
       "      <td>1.0</td>\n",
       "      <td>2017-08-01</td>\n",
       "      <td>...</td>\n",
       "      <td>255.0</td>\n",
       "      <td>2.0</td>\n",
       "      <td>1.0</td>\n",
       "      <td>1</td>\n",
       "      <td>1691.0</td>\n",
       "      <td>1</td>\n",
       "      <td>586.0</td>\n",
       "      <td>1</td>\n",
       "      <td>255.0</td>\n",
       "      <td>13.0</td>\n",
       "    </tr>\n",
       "    <tr>\n",
       "      <th>3</th>\n",
       "      <td>2017-10-01</td>\n",
       "      <td>4</td>\n",
       "      <td>2017-09-01</td>\n",
       "      <td>2017-08-01</td>\n",
       "      <td>2017-07-01</td>\n",
       "      <td>2017-09-01</td>\n",
       "      <td>2650.0</td>\n",
       "      <td>16.0</td>\n",
       "      <td>1.0</td>\n",
       "      <td>2017-08-01</td>\n",
       "      <td>...</td>\n",
       "      <td>601.0</td>\n",
       "      <td>8.0</td>\n",
       "      <td>1.0</td>\n",
       "      <td>1</td>\n",
       "      <td>2650.0</td>\n",
       "      <td>1</td>\n",
       "      <td>1701.0</td>\n",
       "      <td>1</td>\n",
       "      <td>601.0</td>\n",
       "      <td>35.0</td>\n",
       "    </tr>\n",
       "    <tr>\n",
       "      <th>4</th>\n",
       "      <td>2017-10-01</td>\n",
       "      <td>5</td>\n",
       "      <td>2017-09-01</td>\n",
       "      <td>2017-08-01</td>\n",
       "      <td>2017-07-01</td>\n",
       "      <td>NaT</td>\n",
       "      <td>NaN</td>\n",
       "      <td>0.0</td>\n",
       "      <td>NaN</td>\n",
       "      <td>2017-08-01</td>\n",
       "      <td>...</td>\n",
       "      <td>NaN</td>\n",
       "      <td>0.0</td>\n",
       "      <td>NaN</td>\n",
       "      <td>0</td>\n",
       "      <td>0.0</td>\n",
       "      <td>1</td>\n",
       "      <td>7.0</td>\n",
       "      <td>0</td>\n",
       "      <td>0.0</td>\n",
       "      <td>1.0</td>\n",
       "    </tr>\n",
       "  </tbody>\n",
       "</table>\n",
       "<p>5 rows × 24 columns</p>\n",
       "</div>"
      ],
      "text/plain": [
       "     periodo  cliente      fec_1      fec_2      fec_3    fecha_x  monto_x  \\\n",
       "0 2017-10-01        1 2017-09-01 2017-08-01 2017-07-01        NaT      NaN   \n",
       "1 2017-10-01        2 2017-09-01 2017-08-01 2017-07-01 2017-09-01    228.0   \n",
       "2 2017-10-01        3 2017-09-01 2017-08-01 2017-07-01 2017-09-01   1691.0   \n",
       "3 2017-10-01        4 2017-09-01 2017-08-01 2017-07-01 2017-09-01   2650.0   \n",
       "4 2017-10-01        5 2017-09-01 2017-08-01 2017-07-01        NaT      NaN   \n",
       "\n",
       "   trx_x  ind_x    fecha_y  ...  monto  trx  ind M_1  monto_1  M_2  monto_2  \\\n",
       "0    0.0    NaN 2017-08-01  ...  346.0  5.0  1.0   0      0.0    1    210.0   \n",
       "1    1.0    1.0        NaT  ...    NaN  0.0  NaN   1    228.0    0      0.0   \n",
       "2    9.0    1.0 2017-08-01  ...  255.0  2.0  1.0   1   1691.0    1    586.0   \n",
       "3   16.0    1.0 2017-08-01  ...  601.0  8.0  1.0   1   2650.0    1   1701.0   \n",
       "4    0.0    NaN 2017-08-01  ...    NaN  0.0  NaN   0      0.0    1      7.0   \n",
       "\n",
       "   M_3  monto_3  trxSum  \n",
       "0    1    346.0     7.0  \n",
       "1    0      0.0     1.0  \n",
       "2    1    255.0    13.0  \n",
       "3    1    601.0    35.0  \n",
       "4    0      0.0     1.0  \n",
       "\n",
       "[5 rows x 24 columns]"
      ]
     },
     "execution_count": 18,
     "metadata": {},
     "output_type": "execute_result"
    }
   ],
   "source": [
    "dbFinal['trxSum'] = dbFinal['trx_x'] + dbFinal['trx_y'] + dbFinal['trx']\n",
    "dbFinal.head()"
   ]
  },
  {
   "cell_type": "code",
   "execution_count": 19,
   "id": "behind-parliament",
   "metadata": {
    "execution": {
     "iopub.execute_input": "2021-05-02T20:02:10.699439Z",
     "iopub.status.busy": "2021-05-02T20:02:10.698711Z",
     "iopub.status.idle": "2021-05-02T20:02:10.714656Z",
     "shell.execute_reply": "2021-05-02T20:02:10.713850Z"
    },
    "papermill": {
     "duration": 0.067636,
     "end_time": "2021-05-02T20:02:10.714815",
     "exception": false,
     "start_time": "2021-05-02T20:02:10.647179",
     "status": "completed"
    },
    "tags": []
   },
   "outputs": [
    {
     "data": {
      "text/html": [
       "<div>\n",
       "<style scoped>\n",
       "    .dataframe tbody tr th:only-of-type {\n",
       "        vertical-align: middle;\n",
       "    }\n",
       "\n",
       "    .dataframe tbody tr th {\n",
       "        vertical-align: top;\n",
       "    }\n",
       "\n",
       "    .dataframe thead th {\n",
       "        text-align: right;\n",
       "    }\n",
       "</style>\n",
       "<table border=\"1\" class=\"dataframe\">\n",
       "  <thead>\n",
       "    <tr style=\"text-align: right;\">\n",
       "      <th></th>\n",
       "      <th>periodo</th>\n",
       "      <th>cliente</th>\n",
       "      <th>M_1</th>\n",
       "      <th>M_2</th>\n",
       "      <th>M_3</th>\n",
       "      <th>monto_1</th>\n",
       "      <th>monto_2</th>\n",
       "      <th>monto_3</th>\n",
       "      <th>trxSum</th>\n",
       "    </tr>\n",
       "  </thead>\n",
       "  <tbody>\n",
       "    <tr>\n",
       "      <th>0</th>\n",
       "      <td>2017-10-01</td>\n",
       "      <td>1</td>\n",
       "      <td>0</td>\n",
       "      <td>1</td>\n",
       "      <td>1</td>\n",
       "      <td>0.0</td>\n",
       "      <td>210.0</td>\n",
       "      <td>346.0</td>\n",
       "      <td>7.0</td>\n",
       "    </tr>\n",
       "    <tr>\n",
       "      <th>1</th>\n",
       "      <td>2017-10-01</td>\n",
       "      <td>2</td>\n",
       "      <td>1</td>\n",
       "      <td>0</td>\n",
       "      <td>0</td>\n",
       "      <td>228.0</td>\n",
       "      <td>0.0</td>\n",
       "      <td>0.0</td>\n",
       "      <td>1.0</td>\n",
       "    </tr>\n",
       "    <tr>\n",
       "      <th>2</th>\n",
       "      <td>2017-10-01</td>\n",
       "      <td>3</td>\n",
       "      <td>1</td>\n",
       "      <td>1</td>\n",
       "      <td>1</td>\n",
       "      <td>1691.0</td>\n",
       "      <td>586.0</td>\n",
       "      <td>255.0</td>\n",
       "      <td>13.0</td>\n",
       "    </tr>\n",
       "    <tr>\n",
       "      <th>3</th>\n",
       "      <td>2017-10-01</td>\n",
       "      <td>4</td>\n",
       "      <td>1</td>\n",
       "      <td>1</td>\n",
       "      <td>1</td>\n",
       "      <td>2650.0</td>\n",
       "      <td>1701.0</td>\n",
       "      <td>601.0</td>\n",
       "      <td>35.0</td>\n",
       "    </tr>\n",
       "    <tr>\n",
       "      <th>4</th>\n",
       "      <td>2017-10-01</td>\n",
       "      <td>5</td>\n",
       "      <td>0</td>\n",
       "      <td>1</td>\n",
       "      <td>0</td>\n",
       "      <td>0.0</td>\n",
       "      <td>7.0</td>\n",
       "      <td>0.0</td>\n",
       "      <td>1.0</td>\n",
       "    </tr>\n",
       "  </tbody>\n",
       "</table>\n",
       "</div>"
      ],
      "text/plain": [
       "     periodo  cliente  M_1  M_2  M_3  monto_1  monto_2  monto_3  trxSum\n",
       "0 2017-10-01        1    0    1    1      0.0    210.0    346.0     7.0\n",
       "1 2017-10-01        2    1    0    0    228.0      0.0      0.0     1.0\n",
       "2 2017-10-01        3    1    1    1   1691.0    586.0    255.0    13.0\n",
       "3 2017-10-01        4    1    1    1   2650.0   1701.0    601.0    35.0\n",
       "4 2017-10-01        5    0    1    0      0.0      7.0      0.0     1.0"
      ]
     },
     "execution_count": 19,
     "metadata": {},
     "output_type": "execute_result"
    }
   ],
   "source": [
    "dbFinal = dbFinal[['periodo','cliente','M_1','M_2','M_3','monto_1','monto_2','monto_3','trxSum']]\n",
    "dbFinal.head()"
   ]
  },
  {
   "cell_type": "code",
   "execution_count": 20,
   "id": "billion-flush",
   "metadata": {
    "execution": {
     "iopub.execute_input": "2021-05-02T20:02:10.811038Z",
     "iopub.status.busy": "2021-05-02T20:02:10.810368Z",
     "iopub.status.idle": "2021-05-02T20:02:10.829376Z",
     "shell.execute_reply": "2021-05-02T20:02:10.829875Z"
    },
    "papermill": {
     "duration": 0.069551,
     "end_time": "2021-05-02T20:02:10.830046",
     "exception": false,
     "start_time": "2021-05-02T20:02:10.760495",
     "status": "completed"
    },
    "tags": []
   },
   "outputs": [
    {
     "data": {
      "text/html": [
       "<div>\n",
       "<style scoped>\n",
       "    .dataframe tbody tr th:only-of-type {\n",
       "        vertical-align: middle;\n",
       "    }\n",
       "\n",
       "    .dataframe tbody tr th {\n",
       "        vertical-align: top;\n",
       "    }\n",
       "\n",
       "    .dataframe thead th {\n",
       "        text-align: right;\n",
       "    }\n",
       "</style>\n",
       "<table border=\"1\" class=\"dataframe\">\n",
       "  <thead>\n",
       "    <tr style=\"text-align: right;\">\n",
       "      <th></th>\n",
       "      <th>periodo</th>\n",
       "      <th>cliente</th>\n",
       "      <th>M_1</th>\n",
       "      <th>M_2</th>\n",
       "      <th>M_3</th>\n",
       "      <th>monto_1</th>\n",
       "      <th>monto_2</th>\n",
       "      <th>monto_3</th>\n",
       "      <th>trxSum</th>\n",
       "    </tr>\n",
       "  </thead>\n",
       "  <tbody>\n",
       "    <tr>\n",
       "      <th>15</th>\n",
       "      <td>2017-10-01</td>\n",
       "      <td>22</td>\n",
       "      <td>0</td>\n",
       "      <td>0</td>\n",
       "      <td>0</td>\n",
       "      <td>0.0</td>\n",
       "      <td>0.0</td>\n",
       "      <td>0.0</td>\n",
       "      <td>0.0</td>\n",
       "    </tr>\n",
       "    <tr>\n",
       "      <th>17</th>\n",
       "      <td>2017-10-01</td>\n",
       "      <td>25</td>\n",
       "      <td>0</td>\n",
       "      <td>0</td>\n",
       "      <td>0</td>\n",
       "      <td>0.0</td>\n",
       "      <td>0.0</td>\n",
       "      <td>0.0</td>\n",
       "      <td>0.0</td>\n",
       "    </tr>\n",
       "    <tr>\n",
       "      <th>19</th>\n",
       "      <td>2017-10-01</td>\n",
       "      <td>28</td>\n",
       "      <td>0</td>\n",
       "      <td>0</td>\n",
       "      <td>0</td>\n",
       "      <td>0.0</td>\n",
       "      <td>0.0</td>\n",
       "      <td>0.0</td>\n",
       "      <td>0.0</td>\n",
       "    </tr>\n",
       "    <tr>\n",
       "      <th>29</th>\n",
       "      <td>2017-10-01</td>\n",
       "      <td>53</td>\n",
       "      <td>0</td>\n",
       "      <td>0</td>\n",
       "      <td>0</td>\n",
       "      <td>0.0</td>\n",
       "      <td>0.0</td>\n",
       "      <td>0.0</td>\n",
       "      <td>0.0</td>\n",
       "    </tr>\n",
       "    <tr>\n",
       "      <th>36</th>\n",
       "      <td>2017-10-01</td>\n",
       "      <td>66</td>\n",
       "      <td>0</td>\n",
       "      <td>0</td>\n",
       "      <td>0</td>\n",
       "      <td>0.0</td>\n",
       "      <td>0.0</td>\n",
       "      <td>0.0</td>\n",
       "      <td>0.0</td>\n",
       "    </tr>\n",
       "    <tr>\n",
       "      <th>...</th>\n",
       "      <td>...</td>\n",
       "      <td>...</td>\n",
       "      <td>...</td>\n",
       "      <td>...</td>\n",
       "      <td>...</td>\n",
       "      <td>...</td>\n",
       "      <td>...</td>\n",
       "      <td>...</td>\n",
       "      <td>...</td>\n",
       "    </tr>\n",
       "    <tr>\n",
       "      <th>13827</th>\n",
       "      <td>2017-10-01</td>\n",
       "      <td>39996</td>\n",
       "      <td>0</td>\n",
       "      <td>0</td>\n",
       "      <td>0</td>\n",
       "      <td>0.0</td>\n",
       "      <td>0.0</td>\n",
       "      <td>0.0</td>\n",
       "      <td>0.0</td>\n",
       "    </tr>\n",
       "    <tr>\n",
       "      <th>13828</th>\n",
       "      <td>2017-10-01</td>\n",
       "      <td>39997</td>\n",
       "      <td>0</td>\n",
       "      <td>0</td>\n",
       "      <td>0</td>\n",
       "      <td>0.0</td>\n",
       "      <td>0.0</td>\n",
       "      <td>0.0</td>\n",
       "      <td>0.0</td>\n",
       "    </tr>\n",
       "    <tr>\n",
       "      <th>13829</th>\n",
       "      <td>2017-10-01</td>\n",
       "      <td>39998</td>\n",
       "      <td>0</td>\n",
       "      <td>0</td>\n",
       "      <td>0</td>\n",
       "      <td>0.0</td>\n",
       "      <td>0.0</td>\n",
       "      <td>0.0</td>\n",
       "      <td>0.0</td>\n",
       "    </tr>\n",
       "    <tr>\n",
       "      <th>13830</th>\n",
       "      <td>2017-10-01</td>\n",
       "      <td>39999</td>\n",
       "      <td>0</td>\n",
       "      <td>0</td>\n",
       "      <td>0</td>\n",
       "      <td>0.0</td>\n",
       "      <td>0.0</td>\n",
       "      <td>0.0</td>\n",
       "      <td>0.0</td>\n",
       "    </tr>\n",
       "    <tr>\n",
       "      <th>13831</th>\n",
       "      <td>2017-10-01</td>\n",
       "      <td>40000</td>\n",
       "      <td>0</td>\n",
       "      <td>0</td>\n",
       "      <td>0</td>\n",
       "      <td>0.0</td>\n",
       "      <td>0.0</td>\n",
       "      <td>0.0</td>\n",
       "      <td>0.0</td>\n",
       "    </tr>\n",
       "  </tbody>\n",
       "</table>\n",
       "<p>3024 rows × 9 columns</p>\n",
       "</div>"
      ],
      "text/plain": [
       "         periodo  cliente  M_1  M_2  M_3  monto_1  monto_2  monto_3  trxSum\n",
       "15    2017-10-01       22    0    0    0      0.0      0.0      0.0     0.0\n",
       "17    2017-10-01       25    0    0    0      0.0      0.0      0.0     0.0\n",
       "19    2017-10-01       28    0    0    0      0.0      0.0      0.0     0.0\n",
       "29    2017-10-01       53    0    0    0      0.0      0.0      0.0     0.0\n",
       "36    2017-10-01       66    0    0    0      0.0      0.0      0.0     0.0\n",
       "...          ...      ...  ...  ...  ...      ...      ...      ...     ...\n",
       "13827 2017-10-01    39996    0    0    0      0.0      0.0      0.0     0.0\n",
       "13828 2017-10-01    39997    0    0    0      0.0      0.0      0.0     0.0\n",
       "13829 2017-10-01    39998    0    0    0      0.0      0.0      0.0     0.0\n",
       "13830 2017-10-01    39999    0    0    0      0.0      0.0      0.0     0.0\n",
       "13831 2017-10-01    40000    0    0    0      0.0      0.0      0.0     0.0\n",
       "\n",
       "[3024 rows x 9 columns]"
      ]
     },
     "execution_count": 20,
     "metadata": {},
     "output_type": "execute_result"
    }
   ],
   "source": [
    "dbFinal[dbFinal['trxSum']==0]"
   ]
  },
  {
   "cell_type": "code",
   "execution_count": 21,
   "id": "touched-debut",
   "metadata": {
    "execution": {
     "iopub.execute_input": "2021-05-02T20:02:10.925401Z",
     "iopub.status.busy": "2021-05-02T20:02:10.924796Z",
     "iopub.status.idle": "2021-05-02T20:02:10.947363Z",
     "shell.execute_reply": "2021-05-02T20:02:10.946650Z"
    },
    "papermill": {
     "duration": 0.070687,
     "end_time": "2021-05-02T20:02:10.947518",
     "exception": false,
     "start_time": "2021-05-02T20:02:10.876831",
     "status": "completed"
    },
    "tags": []
   },
   "outputs": [
    {
     "data": {
      "text/html": [
       "<div>\n",
       "<style scoped>\n",
       "    .dataframe tbody tr th:only-of-type {\n",
       "        vertical-align: middle;\n",
       "    }\n",
       "\n",
       "    .dataframe tbody tr th {\n",
       "        vertical-align: top;\n",
       "    }\n",
       "\n",
       "    .dataframe thead th {\n",
       "        text-align: right;\n",
       "    }\n",
       "</style>\n",
       "<table border=\"1\" class=\"dataframe\">\n",
       "  <thead>\n",
       "    <tr style=\"text-align: right;\">\n",
       "      <th></th>\n",
       "      <th>periodo</th>\n",
       "      <th>cliente</th>\n",
       "      <th>M_1</th>\n",
       "      <th>M_2</th>\n",
       "      <th>M_3</th>\n",
       "      <th>monto_1</th>\n",
       "      <th>monto_2</th>\n",
       "      <th>monto_3</th>\n",
       "      <th>trxSum</th>\n",
       "    </tr>\n",
       "  </thead>\n",
       "  <tbody>\n",
       "    <tr>\n",
       "      <th>0</th>\n",
       "      <td>2017-10-01</td>\n",
       "      <td>1</td>\n",
       "      <td>0</td>\n",
       "      <td>1</td>\n",
       "      <td>1</td>\n",
       "      <td>0.0</td>\n",
       "      <td>210.0</td>\n",
       "      <td>346.0</td>\n",
       "      <td>7.0</td>\n",
       "    </tr>\n",
       "    <tr>\n",
       "      <th>1</th>\n",
       "      <td>2017-10-01</td>\n",
       "      <td>2</td>\n",
       "      <td>1</td>\n",
       "      <td>0</td>\n",
       "      <td>0</td>\n",
       "      <td>228.0</td>\n",
       "      <td>0.0</td>\n",
       "      <td>0.0</td>\n",
       "      <td>1.0</td>\n",
       "    </tr>\n",
       "    <tr>\n",
       "      <th>2</th>\n",
       "      <td>2017-10-01</td>\n",
       "      <td>3</td>\n",
       "      <td>1</td>\n",
       "      <td>1</td>\n",
       "      <td>1</td>\n",
       "      <td>1691.0</td>\n",
       "      <td>586.0</td>\n",
       "      <td>255.0</td>\n",
       "      <td>13.0</td>\n",
       "    </tr>\n",
       "    <tr>\n",
       "      <th>3</th>\n",
       "      <td>2017-10-01</td>\n",
       "      <td>4</td>\n",
       "      <td>1</td>\n",
       "      <td>1</td>\n",
       "      <td>1</td>\n",
       "      <td>2650.0</td>\n",
       "      <td>1701.0</td>\n",
       "      <td>601.0</td>\n",
       "      <td>35.0</td>\n",
       "    </tr>\n",
       "    <tr>\n",
       "      <th>4</th>\n",
       "      <td>2017-10-01</td>\n",
       "      <td>5</td>\n",
       "      <td>0</td>\n",
       "      <td>1</td>\n",
       "      <td>0</td>\n",
       "      <td>0.0</td>\n",
       "      <td>7.0</td>\n",
       "      <td>0.0</td>\n",
       "      <td>1.0</td>\n",
       "    </tr>\n",
       "    <tr>\n",
       "      <th>...</th>\n",
       "      <td>...</td>\n",
       "      <td>...</td>\n",
       "      <td>...</td>\n",
       "      <td>...</td>\n",
       "      <td>...</td>\n",
       "      <td>...</td>\n",
       "      <td>...</td>\n",
       "      <td>...</td>\n",
       "      <td>...</td>\n",
       "    </tr>\n",
       "    <tr>\n",
       "      <th>13623</th>\n",
       "      <td>2017-10-01</td>\n",
       "      <td>39787</td>\n",
       "      <td>1</td>\n",
       "      <td>0</td>\n",
       "      <td>0</td>\n",
       "      <td>19.0</td>\n",
       "      <td>0.0</td>\n",
       "      <td>0.0</td>\n",
       "      <td>1.0</td>\n",
       "    </tr>\n",
       "    <tr>\n",
       "      <th>13635</th>\n",
       "      <td>2017-10-01</td>\n",
       "      <td>39799</td>\n",
       "      <td>1</td>\n",
       "      <td>0</td>\n",
       "      <td>0</td>\n",
       "      <td>120.0</td>\n",
       "      <td>0.0</td>\n",
       "      <td>0.0</td>\n",
       "      <td>1.0</td>\n",
       "    </tr>\n",
       "    <tr>\n",
       "      <th>13638</th>\n",
       "      <td>2017-10-01</td>\n",
       "      <td>39802</td>\n",
       "      <td>1</td>\n",
       "      <td>0</td>\n",
       "      <td>0</td>\n",
       "      <td>42.0</td>\n",
       "      <td>0.0</td>\n",
       "      <td>0.0</td>\n",
       "      <td>1.0</td>\n",
       "    </tr>\n",
       "    <tr>\n",
       "      <th>13654</th>\n",
       "      <td>2017-10-01</td>\n",
       "      <td>39819</td>\n",
       "      <td>1</td>\n",
       "      <td>0</td>\n",
       "      <td>0</td>\n",
       "      <td>38.0</td>\n",
       "      <td>0.0</td>\n",
       "      <td>0.0</td>\n",
       "      <td>1.0</td>\n",
       "    </tr>\n",
       "    <tr>\n",
       "      <th>13666</th>\n",
       "      <td>2017-10-01</td>\n",
       "      <td>39833</td>\n",
       "      <td>1</td>\n",
       "      <td>0</td>\n",
       "      <td>0</td>\n",
       "      <td>10.0</td>\n",
       "      <td>0.0</td>\n",
       "      <td>0.0</td>\n",
       "      <td>1.0</td>\n",
       "    </tr>\n",
       "  </tbody>\n",
       "</table>\n",
       "<p>10808 rows × 9 columns</p>\n",
       "</div>"
      ],
      "text/plain": [
       "         periodo  cliente  M_1  M_2  M_3  monto_1  monto_2  monto_3  trxSum\n",
       "0     2017-10-01        1    0    1    1      0.0    210.0    346.0     7.0\n",
       "1     2017-10-01        2    1    0    0    228.0      0.0      0.0     1.0\n",
       "2     2017-10-01        3    1    1    1   1691.0    586.0    255.0    13.0\n",
       "3     2017-10-01        4    1    1    1   2650.0   1701.0    601.0    35.0\n",
       "4     2017-10-01        5    0    1    0      0.0      7.0      0.0     1.0\n",
       "...          ...      ...  ...  ...  ...      ...      ...      ...     ...\n",
       "13623 2017-10-01    39787    1    0    0     19.0      0.0      0.0     1.0\n",
       "13635 2017-10-01    39799    1    0    0    120.0      0.0      0.0     1.0\n",
       "13638 2017-10-01    39802    1    0    0     42.0      0.0      0.0     1.0\n",
       "13654 2017-10-01    39819    1    0    0     38.0      0.0      0.0     1.0\n",
       "13666 2017-10-01    39833    1    0    0     10.0      0.0      0.0     1.0\n",
       "\n",
       "[10808 rows x 9 columns]"
      ]
     },
     "execution_count": 21,
     "metadata": {},
     "output_type": "execute_result"
    }
   ],
   "source": [
    "dbFinal[dbFinal['trxSum']!=0]"
   ]
  },
  {
   "cell_type": "markdown",
   "id": "suspended-louis",
   "metadata": {
    "papermill": {
     "duration": 0.048003,
     "end_time": "2021-05-02T20:02:11.046217",
     "exception": false,
     "start_time": "2021-05-02T20:02:10.998214",
     "status": "completed"
    },
    "tags": []
   },
   "source": [
    "## 5.1 Formando R+F+M+t"
   ]
  },
  {
   "cell_type": "markdown",
   "id": "enhanced-salon",
   "metadata": {
    "papermill": {
     "duration": 0.047333,
     "end_time": "2021-05-02T20:02:11.140030",
     "exception": false,
     "start_time": "2021-05-02T20:02:11.092697",
     "status": "completed"
    },
    "tags": []
   },
   "source": [
    "A partir de la información de los 3 últimos meses damos forma a las variables R, F, M y t. Usando la libreria numpy para trabajar las condiciones"
   ]
  },
  {
   "cell_type": "code",
   "execution_count": 22,
   "id": "aging-profit",
   "metadata": {
    "execution": {
     "iopub.execute_input": "2021-05-02T20:02:11.240477Z",
     "iopub.status.busy": "2021-05-02T20:02:11.239809Z",
     "iopub.status.idle": "2021-05-02T20:02:11.251424Z",
     "shell.execute_reply": "2021-05-02T20:02:11.250913Z"
    },
    "papermill": {
     "duration": 0.064052,
     "end_time": "2021-05-02T20:02:11.251567",
     "exception": false,
     "start_time": "2021-05-02T20:02:11.187515",
     "status": "completed"
    },
    "tags": []
   },
   "outputs": [],
   "source": [
    "dbFinal['frec'] = dbFinal['M_1']+dbFinal['M_2']+dbFinal['M_3']\n",
    "dbFinal['rec'] = np.where(dbFinal['M_1']==1,3,np.where(dbFinal['M_2']==1,2,np.where(dbFinal['M_3']==1,1,0)))\n",
    "dbFinal['monto3um'] = np.where(dbFinal['frec']>0,\n",
    "                               (dbFinal['monto_1']+dbFinal['monto_2']+dbFinal['monto_3'])/dbFinal['frec'],0)"
   ]
  },
  {
   "cell_type": "code",
   "execution_count": 23,
   "id": "married-moment",
   "metadata": {
    "execution": {
     "iopub.execute_input": "2021-05-02T20:02:11.362128Z",
     "iopub.status.busy": "2021-05-02T20:02:11.361179Z",
     "iopub.status.idle": "2021-05-02T20:02:11.366324Z",
     "shell.execute_reply": "2021-05-02T20:02:11.365599Z"
    },
    "papermill": {
     "duration": 0.067217,
     "end_time": "2021-05-02T20:02:11.366471",
     "exception": false,
     "start_time": "2021-05-02T20:02:11.299254",
     "status": "completed"
    },
    "tags": []
   },
   "outputs": [
    {
     "data": {
      "text/html": [
       "<div>\n",
       "<style scoped>\n",
       "    .dataframe tbody tr th:only-of-type {\n",
       "        vertical-align: middle;\n",
       "    }\n",
       "\n",
       "    .dataframe tbody tr th {\n",
       "        vertical-align: top;\n",
       "    }\n",
       "\n",
       "    .dataframe thead th {\n",
       "        text-align: right;\n",
       "    }\n",
       "</style>\n",
       "<table border=\"1\" class=\"dataframe\">\n",
       "  <thead>\n",
       "    <tr style=\"text-align: right;\">\n",
       "      <th></th>\n",
       "      <th>periodo</th>\n",
       "      <th>cliente</th>\n",
       "      <th>M_1</th>\n",
       "      <th>M_2</th>\n",
       "      <th>M_3</th>\n",
       "      <th>monto_1</th>\n",
       "      <th>monto_2</th>\n",
       "      <th>monto_3</th>\n",
       "      <th>trxSum</th>\n",
       "      <th>frec</th>\n",
       "      <th>rec</th>\n",
       "      <th>monto3um</th>\n",
       "    </tr>\n",
       "  </thead>\n",
       "  <tbody>\n",
       "    <tr>\n",
       "      <th>0</th>\n",
       "      <td>2017-10-01</td>\n",
       "      <td>1</td>\n",
       "      <td>0</td>\n",
       "      <td>1</td>\n",
       "      <td>1</td>\n",
       "      <td>0.0</td>\n",
       "      <td>210.0</td>\n",
       "      <td>346.0</td>\n",
       "      <td>7.0</td>\n",
       "      <td>2</td>\n",
       "      <td>2</td>\n",
       "      <td>278.000000</td>\n",
       "    </tr>\n",
       "    <tr>\n",
       "      <th>1</th>\n",
       "      <td>2017-10-01</td>\n",
       "      <td>2</td>\n",
       "      <td>1</td>\n",
       "      <td>0</td>\n",
       "      <td>0</td>\n",
       "      <td>228.0</td>\n",
       "      <td>0.0</td>\n",
       "      <td>0.0</td>\n",
       "      <td>1.0</td>\n",
       "      <td>1</td>\n",
       "      <td>3</td>\n",
       "      <td>228.000000</td>\n",
       "    </tr>\n",
       "    <tr>\n",
       "      <th>2</th>\n",
       "      <td>2017-10-01</td>\n",
       "      <td>3</td>\n",
       "      <td>1</td>\n",
       "      <td>1</td>\n",
       "      <td>1</td>\n",
       "      <td>1691.0</td>\n",
       "      <td>586.0</td>\n",
       "      <td>255.0</td>\n",
       "      <td>13.0</td>\n",
       "      <td>3</td>\n",
       "      <td>3</td>\n",
       "      <td>844.000000</td>\n",
       "    </tr>\n",
       "    <tr>\n",
       "      <th>3</th>\n",
       "      <td>2017-10-01</td>\n",
       "      <td>4</td>\n",
       "      <td>1</td>\n",
       "      <td>1</td>\n",
       "      <td>1</td>\n",
       "      <td>2650.0</td>\n",
       "      <td>1701.0</td>\n",
       "      <td>601.0</td>\n",
       "      <td>35.0</td>\n",
       "      <td>3</td>\n",
       "      <td>3</td>\n",
       "      <td>1650.666667</td>\n",
       "    </tr>\n",
       "    <tr>\n",
       "      <th>4</th>\n",
       "      <td>2017-10-01</td>\n",
       "      <td>5</td>\n",
       "      <td>0</td>\n",
       "      <td>1</td>\n",
       "      <td>0</td>\n",
       "      <td>0.0</td>\n",
       "      <td>7.0</td>\n",
       "      <td>0.0</td>\n",
       "      <td>1.0</td>\n",
       "      <td>1</td>\n",
       "      <td>2</td>\n",
       "      <td>7.000000</td>\n",
       "    </tr>\n",
       "  </tbody>\n",
       "</table>\n",
       "</div>"
      ],
      "text/plain": [
       "     periodo  cliente  M_1  M_2  M_3  monto_1  monto_2  monto_3  trxSum  frec  \\\n",
       "0 2017-10-01        1    0    1    1      0.0    210.0    346.0     7.0     2   \n",
       "1 2017-10-01        2    1    0    0    228.0      0.0      0.0     1.0     1   \n",
       "2 2017-10-01        3    1    1    1   1691.0    586.0    255.0    13.0     3   \n",
       "3 2017-10-01        4    1    1    1   2650.0   1701.0    601.0    35.0     3   \n",
       "4 2017-10-01        5    0    1    0      0.0      7.0      0.0     1.0     1   \n",
       "\n",
       "   rec     monto3um  \n",
       "0    2   278.000000  \n",
       "1    3   228.000000  \n",
       "2    3   844.000000  \n",
       "3    3  1650.666667  \n",
       "4    2     7.000000  "
      ]
     },
     "execution_count": 23,
     "metadata": {},
     "output_type": "execute_result"
    }
   ],
   "source": [
    "dbFinal.head()"
   ]
  },
  {
   "cell_type": "markdown",
   "id": "tired-genre",
   "metadata": {
    "papermill": {
     "duration": 0.046988,
     "end_time": "2021-05-02T20:02:11.461295",
     "exception": false,
     "start_time": "2021-05-02T20:02:11.414307",
     "status": "completed"
    },
    "tags": []
   },
   "source": [
    "### Variables trxSum vs Monto3um"
   ]
  },
  {
   "cell_type": "code",
   "execution_count": 24,
   "id": "historic-philadelphia",
   "metadata": {
    "execution": {
     "iopub.execute_input": "2021-05-02T20:02:11.577860Z",
     "iopub.status.busy": "2021-05-02T20:02:11.560959Z",
     "iopub.status.idle": "2021-05-02T20:02:11.781254Z",
     "shell.execute_reply": "2021-05-02T20:02:11.780555Z"
    },
    "papermill": {
     "duration": 0.272712,
     "end_time": "2021-05-02T20:02:11.781413",
     "exception": false,
     "start_time": "2021-05-02T20:02:11.508701",
     "status": "completed"
    },
    "tags": []
   },
   "outputs": [
    {
     "data": {
      "image/png": "[encoded data removed]",
      "text/plain": [
       "<Figure size 432x288 with 1 Axes>"
      ]
     },
     "metadata": {
      "needs_background": "light"
     },
     "output_type": "display_data"
    }
   ],
   "source": [
    "sns.scatterplot(data=dbFinal, x=\"trxSum\", y=\"monto3um\")\n",
    "plt.show()"
   ]
  },
  {
   "cell_type": "markdown",
   "id": "photographic-honolulu",
   "metadata": {
    "papermill": {
     "duration": 0.047871,
     "end_time": "2021-05-02T20:02:11.877266",
     "exception": false,
     "start_time": "2021-05-02T20:02:11.829395",
     "status": "completed"
    },
    "tags": []
   },
   "source": [
    "Veremos la correlación de trxSum y Monto3um para verificar si existe una relación entre ellas"
   ]
  },
  {
   "cell_type": "code",
   "execution_count": 25,
   "id": "brown-strand",
   "metadata": {
    "execution": {
     "iopub.execute_input": "2021-05-02T20:02:11.981146Z",
     "iopub.status.busy": "2021-05-02T20:02:11.980489Z",
     "iopub.status.idle": "2021-05-02T20:02:11.995872Z",
     "shell.execute_reply": "2021-05-02T20:02:11.997009Z"
    },
    "papermill": {
     "duration": 0.071931,
     "end_time": "2021-05-02T20:02:11.997298",
     "exception": false,
     "start_time": "2021-05-02T20:02:11.925367",
     "status": "completed"
    },
    "tags": []
   },
   "outputs": [
    {
     "name": "stdout",
     "output_type": "stream",
     "text": [
      "********Correlación de Pearson********\n",
      "            trxSum  monto3um\n",
      "trxSum    1.000000  0.247905\n",
      "monto3um  0.247905  1.000000\n",
      "****Correlación de Pearson acotando los valores extremos****\n",
      "            trxSum  monto3um\n",
      "trxSum    1.000000  0.360044\n",
      "monto3um  0.360044  1.000000\n"
     ]
    }
   ],
   "source": [
    "print('********Correlación de Pearson********')\n",
    "print(dbFinal[['trxSum','monto3um']].corr())\n",
    "print('****Correlación de Pearson acotando los valores extremos****')\n",
    "print(dbFinal[(dbFinal['monto3um']<40000) & (dbFinal['trxSum']<100)][['trxSum','monto3um']].corr())"
   ]
  },
  {
   "cell_type": "markdown",
   "id": "ignored-wales",
   "metadata": {
    "papermill": {
     "duration": 0.050427,
     "end_time": "2021-05-02T20:02:12.099528",
     "exception": false,
     "start_time": "2021-05-02T20:02:12.049101",
     "status": "completed"
    },
    "tags": []
   },
   "source": [
    "Podemos notar que la correlación es muy baja, eso implica que:\n",
    "\n",
    "    - Realizar más transacciones por tarjeta no significa que el cliente consuma más.\n",
    "    - Realizar menos transacciones por tarjeta no significa que el cliente consuma menos.\n",
    "\n",
    "Procederemos a segmentar estas dos variables en conjunto, utilizando Kmodes y Kmeans para ver cuál es más efectiva.\n"
   ]
  },
  {
   "cell_type": "markdown",
   "id": "ranking-movie",
   "metadata": {
    "papermill": {
     "duration": 0.050426,
     "end_time": "2021-05-02T20:02:12.200406",
     "exception": false,
     "start_time": "2021-05-02T20:02:12.149980",
     "status": "completed"
    },
    "tags": []
   },
   "source": [
    "#### Segmentando trxSum y Monto3um por Kmodes"
   ]
  },
  {
   "cell_type": "code",
   "execution_count": 26,
   "id": "friendly-verse",
   "metadata": {
    "execution": {
     "iopub.execute_input": "2021-05-02T20:02:12.305319Z",
     "iopub.status.busy": "2021-05-02T20:02:12.304696Z",
     "iopub.status.idle": "2021-05-02T20:02:12.473269Z",
     "shell.execute_reply": "2021-05-02T20:02:12.472731Z"
    },
    "papermill": {
     "duration": 0.222932,
     "end_time": "2021-05-02T20:02:12.473417",
     "exception": false,
     "start_time": "2021-05-02T20:02:12.250485",
     "status": "completed"
    },
    "tags": []
   },
   "outputs": [],
   "source": [
    "from kmodes.kmodes import KModes\n",
    "from sklearn import preprocessing"
   ]
  },
  {
   "cell_type": "code",
   "execution_count": 27,
   "id": "agreed-duplicate",
   "metadata": {
    "execution": {
     "iopub.execute_input": "2021-05-02T20:02:12.585406Z",
     "iopub.status.busy": "2021-05-02T20:02:12.584804Z",
     "iopub.status.idle": "2021-05-02T20:02:12.590213Z",
     "shell.execute_reply": "2021-05-02T20:02:12.589594Z"
    },
    "papermill": {
     "duration": 0.068249,
     "end_time": "2021-05-02T20:02:12.590357",
     "exception": false,
     "start_time": "2021-05-02T20:02:12.522108",
     "status": "completed"
    },
    "tags": []
   },
   "outputs": [
    {
     "data": {
      "text/html": [
       "<div>\n",
       "<style scoped>\n",
       "    .dataframe tbody tr th:only-of-type {\n",
       "        vertical-align: middle;\n",
       "    }\n",
       "\n",
       "    .dataframe tbody tr th {\n",
       "        vertical-align: top;\n",
       "    }\n",
       "\n",
       "    .dataframe thead th {\n",
       "        text-align: right;\n",
       "    }\n",
       "</style>\n",
       "<table border=\"1\" class=\"dataframe\">\n",
       "  <thead>\n",
       "    <tr style=\"text-align: right;\">\n",
       "      <th></th>\n",
       "      <th>trxSum</th>\n",
       "      <th>monto3um</th>\n",
       "    </tr>\n",
       "  </thead>\n",
       "  <tbody>\n",
       "    <tr>\n",
       "      <th>0</th>\n",
       "      <td>7.0</td>\n",
       "      <td>278.000000</td>\n",
       "    </tr>\n",
       "    <tr>\n",
       "      <th>1</th>\n",
       "      <td>1.0</td>\n",
       "      <td>228.000000</td>\n",
       "    </tr>\n",
       "    <tr>\n",
       "      <th>2</th>\n",
       "      <td>13.0</td>\n",
       "      <td>844.000000</td>\n",
       "    </tr>\n",
       "    <tr>\n",
       "      <th>3</th>\n",
       "      <td>35.0</td>\n",
       "      <td>1650.666667</td>\n",
       "    </tr>\n",
       "    <tr>\n",
       "      <th>4</th>\n",
       "      <td>1.0</td>\n",
       "      <td>7.000000</td>\n",
       "    </tr>\n",
       "    <tr>\n",
       "      <th>...</th>\n",
       "      <td>...</td>\n",
       "      <td>...</td>\n",
       "    </tr>\n",
       "    <tr>\n",
       "      <th>13827</th>\n",
       "      <td>0.0</td>\n",
       "      <td>0.000000</td>\n",
       "    </tr>\n",
       "    <tr>\n",
       "      <th>13828</th>\n",
       "      <td>0.0</td>\n",
       "      <td>0.000000</td>\n",
       "    </tr>\n",
       "    <tr>\n",
       "      <th>13829</th>\n",
       "      <td>0.0</td>\n",
       "      <td>0.000000</td>\n",
       "    </tr>\n",
       "    <tr>\n",
       "      <th>13830</th>\n",
       "      <td>0.0</td>\n",
       "      <td>0.000000</td>\n",
       "    </tr>\n",
       "    <tr>\n",
       "      <th>13831</th>\n",
       "      <td>0.0</td>\n",
       "      <td>0.000000</td>\n",
       "    </tr>\n",
       "  </tbody>\n",
       "</table>\n",
       "<p>13832 rows × 2 columns</p>\n",
       "</div>"
      ],
      "text/plain": [
       "       trxSum     monto3um\n",
       "0         7.0   278.000000\n",
       "1         1.0   228.000000\n",
       "2        13.0   844.000000\n",
       "3        35.0  1650.666667\n",
       "4         1.0     7.000000\n",
       "...       ...          ...\n",
       "13827     0.0     0.000000\n",
       "13828     0.0     0.000000\n",
       "13829     0.0     0.000000\n",
       "13830     0.0     0.000000\n",
       "13831     0.0     0.000000\n",
       "\n",
       "[13832 rows x 2 columns]"
      ]
     },
     "execution_count": 27,
     "metadata": {},
     "output_type": "execute_result"
    }
   ],
   "source": [
    "dbPrueba = pd.DataFrame()\n",
    "dbPrueba = dbFinal[['trxSum','monto3um']].copy()\n",
    "dbPrueba"
   ]
  },
  {
   "cell_type": "code",
   "execution_count": 28,
   "id": "scientific-hudson",
   "metadata": {
    "execution": {
     "iopub.execute_input": "2021-05-02T20:02:12.695889Z",
     "iopub.status.busy": "2021-05-02T20:02:12.695150Z",
     "iopub.status.idle": "2021-05-02T20:02:46.886958Z",
     "shell.execute_reply": "2021-05-02T20:02:46.887404Z"
    },
    "papermill": {
     "duration": 34.246557,
     "end_time": "2021-05-02T20:02:46.887584",
     "exception": false,
     "start_time": "2021-05-02T20:02:12.641027",
     "status": "completed"
    },
    "tags": []
   },
   "outputs": [
    {
     "name": "stdout",
     "output_type": "stream",
     "text": [
      "Init: initializing centroids\n",
      "Init: initializing clusters\n",
      "Starting iterations...\n",
      "Run 1, iteration: 1/100, moves: 0, cost: 21614.0\n",
      "Init: initializing centroids\n",
      "Init: initializing clusters\n",
      "Starting iterations...\n",
      "Run 1, iteration: 1/100, moves: 28, cost: 20151.0\n",
      "Init: initializing centroids\n",
      "Init: initializing clusters\n",
      "Starting iterations...\n",
      "Run 1, iteration: 1/100, moves: 28, cost: 18844.0\n",
      "Init: initializing centroids\n",
      "Init: initializing clusters\n",
      "Starting iterations...\n",
      "Run 1, iteration: 1/100, moves: 37, cost: 17614.0\n",
      "Init: initializing centroids\n",
      "Init: initializing clusters\n",
      "Starting iterations...\n",
      "Run 1, iteration: 1/100, moves: 37, cost: 16685.0\n",
      "Init: initializing centroids\n",
      "Init: initializing clusters\n",
      "Starting iterations...\n",
      "Run 1, iteration: 1/100, moves: 35, cost: 15939.0\n",
      "Run 1, iteration: 2/100, moves: 5, cost: 15939.0\n",
      "Init: initializing centroids\n",
      "Init: initializing clusters\n",
      "Starting iterations...\n",
      "Run 1, iteration: 1/100, moves: 25, cost: 15904.0\n",
      "Run 1, iteration: 2/100, moves: 5, cost: 15904.0\n",
      "Init: initializing centroids\n",
      "Init: initializing clusters\n",
      "Starting iterations...\n",
      "Run 1, iteration: 1/100, moves: 25, cost: 15876.0\n",
      "Run 1, iteration: 2/100, moves: 5, cost: 15876.0\n",
      "Init: initializing centroids\n",
      "Init: initializing clusters\n",
      "Starting iterations...\n",
      "Run 1, iteration: 1/100, moves: 25, cost: 15844.0\n",
      "Run 1, iteration: 2/100, moves: 5, cost: 15844.0\n",
      "Init: initializing centroids\n",
      "Init: initializing clusters\n",
      "Starting iterations...\n",
      "Run 1, iteration: 1/100, moves: 25, cost: 15825.0\n",
      "Run 1, iteration: 2/100, moves: 5, cost: 15825.0\n",
      "Init: initializing centroids\n",
      "Init: initializing clusters\n",
      "Starting iterations...\n",
      "Run 1, iteration: 1/100, moves: 25, cost: 15793.0\n",
      "Run 1, iteration: 2/100, moves: 5, cost: 15793.0\n",
      "Init: initializing centroids\n",
      "Init: initializing clusters\n",
      "Starting iterations...\n",
      "Run 1, iteration: 1/100, moves: 28, cost: 15763.0\n",
      "Run 1, iteration: 2/100, moves: 5, cost: 15763.0\n",
      "Init: initializing centroids\n",
      "Init: initializing clusters\n",
      "Starting iterations...\n",
      "Run 1, iteration: 1/100, moves: 28, cost: 15733.0\n",
      "Run 1, iteration: 2/100, moves: 5, cost: 15733.0\n",
      "Init: initializing centroids\n",
      "Init: initializing clusters\n",
      "Starting iterations...\n",
      "Run 1, iteration: 1/100, moves: 28, cost: 15706.0\n",
      "Run 1, iteration: 2/100, moves: 5, cost: 15706.0\n",
      "Init: initializing centroids\n",
      "Init: initializing clusters\n",
      "Starting iterations...\n",
      "Run 1, iteration: 1/100, moves: 28, cost: 15685.0\n",
      "Run 1, iteration: 2/100, moves: 5, cost: 15685.0\n",
      "Init: initializing centroids\n",
      "Init: initializing clusters\n",
      "Starting iterations...\n",
      "Run 1, iteration: 1/100, moves: 22, cost: 15659.0\n",
      "Run 1, iteration: 2/100, moves: 5, cost: 15659.0\n",
      "Init: initializing centroids\n",
      "Init: initializing clusters\n",
      "Starting iterations...\n",
      "Run 1, iteration: 1/100, moves: 22, cost: 15636.0\n",
      "Run 1, iteration: 2/100, moves: 5, cost: 15636.0\n",
      "Init: initializing centroids\n",
      "Init: initializing clusters\n",
      "Starting iterations...\n",
      "Run 1, iteration: 1/100, moves: 22, cost: 15606.0\n",
      "Run 1, iteration: 2/100, moves: 5, cost: 15606.0\n",
      "Init: initializing centroids\n",
      "Init: initializing clusters\n",
      "Starting iterations...\n",
      "Run 1, iteration: 1/100, moves: 22, cost: 15582.0\n",
      "Run 1, iteration: 2/100, moves: 5, cost: 15582.0\n",
      "[[  0.   0.]\n",
      " [  1.   5.]\n",
      " [  2.  30.]\n",
      " [  3.  35.]\n",
      " [  4.  40.]\n",
      " [  5.  37.]\n",
      " [  1.  10.]\n",
      " [  1.  30.]\n",
      " [  1.  40.]\n",
      " [  1.  35.]\n",
      " [  1.  15.]\n",
      " [  1.   7.]\n",
      " [  1.  50.]\n",
      " [  1.  19.]\n",
      " [  1.  11.]\n",
      " [  1.   9.]\n",
      " [  1.  34.]\n",
      " [  1. 100.]\n",
      " [  1.  20.]]\n"
     ]
    }
   ],
   "source": [
    "cost=[]\n",
    "cluster=[]\n",
    "\n",
    "for i in list(range(1,20)):\n",
    "    model = KModes(n_clusters=i, init='Cao', n_init=1, verbose=1)\n",
    "    cluster.append(model.fit_predict(dbPrueba))\n",
    "    cost.append(model.cost_)\n",
    "print(model.cluster_centroids_)"
   ]
  },
  {
   "cell_type": "code",
   "execution_count": 29,
   "id": "operating-murray",
   "metadata": {
    "execution": {
     "iopub.execute_input": "2021-05-02T20:02:47.044268Z",
     "iopub.status.busy": "2021-05-02T20:02:47.040759Z",
     "iopub.status.idle": "2021-05-02T20:02:47.161190Z",
     "shell.execute_reply": "2021-05-02T20:02:47.160675Z"
    },
    "papermill": {
     "duration": 0.207608,
     "end_time": "2021-05-02T20:02:47.161322",
     "exception": false,
     "start_time": "2021-05-02T20:02:46.953714",
     "status": "completed"
    },
    "tags": []
   },
   "outputs": [
    {
     "data": {
      "image/png": "[encoded data removed]",
      "text/plain": [
       "<Figure size 432x288 with 1 Axes>"
      ]
     },
     "metadata": {
      "needs_background": "light"
     },
     "output_type": "display_data"
    }
   ],
   "source": [
    "rango=np.array(range(1,len(cost)+1))\n",
    "plt.plot(rango,cost)\n",
    "plt.title('Evolución de Cluster Vs Costo')\n",
    "plt.xlabel('nro de clusters')\n",
    "plt.show()"
   ]
  },
  {
   "cell_type": "code",
   "execution_count": 30,
   "id": "technological-james",
   "metadata": {
    "execution": {
     "iopub.execute_input": "2021-05-02T20:02:47.307215Z",
     "iopub.status.busy": "2021-05-02T20:02:47.306486Z",
     "iopub.status.idle": "2021-05-02T20:02:47.310772Z",
     "shell.execute_reply": "2021-05-02T20:02:47.311182Z"
    },
    "papermill": {
     "duration": 0.082374,
     "end_time": "2021-05-02T20:02:47.311360",
     "exception": false,
     "start_time": "2021-05-02T20:02:47.228986",
     "status": "completed"
    },
    "tags": []
   },
   "outputs": [
    {
     "data": {
      "text/html": [
       "<div>\n",
       "<style scoped>\n",
       "    .dataframe tbody tr th:only-of-type {\n",
       "        vertical-align: middle;\n",
       "    }\n",
       "\n",
       "    .dataframe tbody tr th {\n",
       "        vertical-align: top;\n",
       "    }\n",
       "\n",
       "    .dataframe thead th {\n",
       "        text-align: right;\n",
       "    }\n",
       "</style>\n",
       "<table border=\"1\" class=\"dataframe\">\n",
       "  <thead>\n",
       "    <tr style=\"text-align: right;\">\n",
       "      <th></th>\n",
       "      <th>trxSum</th>\n",
       "      <th>monto3um</th>\n",
       "      <th>cluster</th>\n",
       "    </tr>\n",
       "  </thead>\n",
       "  <tbody>\n",
       "    <tr>\n",
       "      <th>0</th>\n",
       "      <td>7.0</td>\n",
       "      <td>278.000000</td>\n",
       "      <td>0</td>\n",
       "    </tr>\n",
       "    <tr>\n",
       "      <th>1</th>\n",
       "      <td>1.0</td>\n",
       "      <td>228.000000</td>\n",
       "      <td>1</td>\n",
       "    </tr>\n",
       "    <tr>\n",
       "      <th>2</th>\n",
       "      <td>13.0</td>\n",
       "      <td>844.000000</td>\n",
       "      <td>0</td>\n",
       "    </tr>\n",
       "    <tr>\n",
       "      <th>3</th>\n",
       "      <td>35.0</td>\n",
       "      <td>1650.666667</td>\n",
       "      <td>0</td>\n",
       "    </tr>\n",
       "    <tr>\n",
       "      <th>4</th>\n",
       "      <td>1.0</td>\n",
       "      <td>7.000000</td>\n",
       "      <td>1</td>\n",
       "    </tr>\n",
       "  </tbody>\n",
       "</table>\n",
       "</div>"
      ],
      "text/plain": [
       "   trxSum     monto3um  cluster\n",
       "0     7.0   278.000000        0\n",
       "1     1.0   228.000000        1\n",
       "2    13.0   844.000000        0\n",
       "3    35.0  1650.666667        0\n",
       "4     1.0     7.000000        1"
      ]
     },
     "execution_count": 30,
     "metadata": {},
     "output_type": "execute_result"
    }
   ],
   "source": [
    "n_cluster = 6\n",
    "dbPrueba['cluster'] = cluster[n_cluster-1]\n",
    "dbPrueba.head()"
   ]
  },
  {
   "cell_type": "code",
   "execution_count": 31,
   "id": "white-albany",
   "metadata": {
    "execution": {
     "iopub.execute_input": "2021-05-02T20:02:47.454302Z",
     "iopub.status.busy": "2021-05-02T20:02:47.453182Z",
     "iopub.status.idle": "2021-05-02T20:02:48.127393Z",
     "shell.execute_reply": "2021-05-02T20:02:48.126209Z"
    },
    "papermill": {
     "duration": 0.748158,
     "end_time": "2021-05-02T20:02:48.127563",
     "exception": false,
     "start_time": "2021-05-02T20:02:47.379405",
     "status": "completed"
    },
    "tags": []
   },
   "outputs": [
    {
     "data": {
      "image/png": "[encoded data removed]",
      "text/plain": [
       "<Figure size 432x288 with 1 Axes>"
      ]
     },
     "metadata": {
      "needs_background": "light"
     },
     "output_type": "display_data"
    }
   ],
   "source": [
    "sns.scatterplot(data=dbPrueba, x=\"trxSum\", y=\"monto3um\",\n",
    "                hue='cluster', palette=\"deep\", alpha=1,\n",
    "                style='cluster')\n",
    "plt.show()"
   ]
  },
  {
   "cell_type": "code",
   "execution_count": 32,
   "id": "minimal-action",
   "metadata": {
    "execution": {
     "iopub.execute_input": "2021-05-02T20:02:48.275526Z",
     "iopub.status.busy": "2021-05-02T20:02:48.274463Z",
     "iopub.status.idle": "2021-05-02T20:02:49.132472Z",
     "shell.execute_reply": "2021-05-02T20:02:49.131879Z"
    },
    "papermill": {
     "duration": 0.935559,
     "end_time": "2021-05-02T20:02:49.132607",
     "exception": false,
     "start_time": "2021-05-02T20:02:48.197048",
     "status": "completed"
    },
    "tags": []
   },
   "outputs": [
    {
     "data": {
      "image/png": "[encoded data removed]",
      "text/plain": [
       "<Figure size 432x288 with 1 Axes>"
      ]
     },
     "metadata": {
      "needs_background": "light"
     },
     "output_type": "display_data"
    }
   ],
   "source": [
    "sns.scatterplot(data=dbPrueba, x=\"trxSum\", y=\"monto3um\",\n",
    "                hue='cluster', palette=\"deep\", alpha=1,\n",
    "                style='cluster')\n",
    "plt.xlim([0,15])\n",
    "plt.ylim([0,20000])\n",
    "plt.show()"
   ]
  },
  {
   "cell_type": "markdown",
   "id": "personal-planet",
   "metadata": {
    "papermill": {
     "duration": 0.069783,
     "end_time": "2021-05-02T20:02:49.271992",
     "exception": false,
     "start_time": "2021-05-02T20:02:49.202209",
     "status": "completed"
    },
    "tags": []
   },
   "source": [
    "**Kmodes a pesar de ser robusta a los outliers, en este caso la segmentación no tiene sentido, por tanto, no es un buen resultado, ni usaremos kmodes para el agrupamiento de estas dos variables.**"
   ]
  },
  {
   "cell_type": "markdown",
   "id": "casual-locking",
   "metadata": {
    "papermill": {
     "duration": 0.069112,
     "end_time": "2021-05-02T20:02:49.412422",
     "exception": false,
     "start_time": "2021-05-02T20:02:49.343310",
     "status": "completed"
    },
    "tags": []
   },
   "source": [
    "### Segmentando trxSum y Monto3um por Kmeans"
   ]
  },
  {
   "cell_type": "markdown",
   "id": "removable-auckland",
   "metadata": {
    "papermill": {
     "duration": 0.070571,
     "end_time": "2021-05-02T20:02:49.552617",
     "exception": false,
     "start_time": "2021-05-02T20:02:49.482046",
     "status": "completed"
    },
    "tags": []
   },
   "source": [
    "***En este caso aguparemos sin contar con los valores muy extremos, ya que el método de Kmeans es sensible a dichos valores y pueden sesgar nuestra forma de agrupamiento.***"
   ]
  },
  {
   "cell_type": "code",
   "execution_count": 33,
   "id": "labeled-morocco",
   "metadata": {
    "execution": {
     "iopub.execute_input": "2021-05-02T20:02:49.698384Z",
     "iopub.status.busy": "2021-05-02T20:02:49.697408Z",
     "iopub.status.idle": "2021-05-02T20:02:49.866501Z",
     "shell.execute_reply": "2021-05-02T20:02:49.865996Z"
    },
    "papermill": {
     "duration": 0.244651,
     "end_time": "2021-05-02T20:02:49.866652",
     "exception": false,
     "start_time": "2021-05-02T20:02:49.622001",
     "status": "completed"
    },
    "tags": []
   },
   "outputs": [
    {
     "data": {
      "image/png": "[encoded data removed]",
      "text/plain": [
       "<Figure size 432x288 with 1 Axes>"
      ]
     },
     "metadata": {
      "needs_background": "light"
     },
     "output_type": "display_data"
    }
   ],
   "source": [
    "dbPrueba = dbPrueba.drop(dbPrueba[dbPrueba['monto3um']>40000].index)\n",
    "\n",
    "sns.scatterplot(data=dbPrueba, x=\"trxSum\", y=\"monto3um\")\n",
    "plt.show()"
   ]
  },
  {
   "cell_type": "code",
   "execution_count": 34,
   "id": "entitled-possible",
   "metadata": {
    "execution": {
     "iopub.execute_input": "2021-05-02T20:02:50.016774Z",
     "iopub.status.busy": "2021-05-02T20:02:50.016009Z",
     "iopub.status.idle": "2021-05-02T20:03:27.478467Z",
     "shell.execute_reply": "2021-05-02T20:03:27.477786Z"
    },
    "papermill": {
     "duration": 37.541294,
     "end_time": "2021-05-02T20:03:27.478626",
     "exception": false,
     "start_time": "2021-05-02T20:02:49.937332",
     "status": "completed"
    },
    "tags": []
   },
   "outputs": [],
   "source": [
    "from sklearn.cluster import KMeans\n",
    "\n",
    "cost=[]\n",
    "cluster=[]\n",
    "\n",
    "for i in list(range(1,11)):\n",
    "    kmeans = KMeans(n_clusters=i, max_iter=300, random_state=1)\n",
    "    kmeans.fit(dbPrueba)\n",
    "    cluster.append(kmeans.fit_predict(dbPrueba))\n",
    "    cost.append(kmeans.inertia_)"
   ]
  },
  {
   "cell_type": "code",
   "execution_count": 35,
   "id": "conscious-pound",
   "metadata": {
    "execution": {
     "iopub.execute_input": "2021-05-02T20:03:27.678684Z",
     "iopub.status.busy": "2021-05-02T20:03:27.657428Z",
     "iopub.status.idle": "2021-05-02T20:03:27.767224Z",
     "shell.execute_reply": "2021-05-02T20:03:27.766691Z"
    },
    "papermill": {
     "duration": 0.207894,
     "end_time": "2021-05-02T20:03:27.767378",
     "exception": false,
     "start_time": "2021-05-02T20:03:27.559484",
     "status": "completed"
    },
    "tags": []
   },
   "outputs": [
    {
     "data": {
      "image/png": "[encoded data removed]",
      "text/plain": [
       "<Figure size 432x288 with 1 Axes>"
      ]
     },
     "metadata": {
      "needs_background": "light"
     },
     "output_type": "display_data"
    }
   ],
   "source": [
    "rango=np.array(range(1,len(cost)+1))\n",
    "plt.plot(rango,cost)\n",
    "plt.title('Evolución de Cluster Vs Costo')\n",
    "plt.xlabel('nro de clusters')\n",
    "plt.show()"
   ]
  },
  {
   "cell_type": "code",
   "execution_count": 36,
   "id": "minute-strike",
   "metadata": {
    "execution": {
     "iopub.execute_input": "2021-05-02T20:03:27.921557Z",
     "iopub.status.busy": "2021-05-02T20:03:27.920610Z",
     "iopub.status.idle": "2021-05-02T20:03:27.925563Z",
     "shell.execute_reply": "2021-05-02T20:03:27.924910Z"
    },
    "papermill": {
     "duration": 0.086827,
     "end_time": "2021-05-02T20:03:27.925746",
     "exception": false,
     "start_time": "2021-05-02T20:03:27.838919",
     "status": "completed"
    },
    "tags": []
   },
   "outputs": [
    {
     "data": {
      "text/html": [
       "<div>\n",
       "<style scoped>\n",
       "    .dataframe tbody tr th:only-of-type {\n",
       "        vertical-align: middle;\n",
       "    }\n",
       "\n",
       "    .dataframe tbody tr th {\n",
       "        vertical-align: top;\n",
       "    }\n",
       "\n",
       "    .dataframe thead th {\n",
       "        text-align: right;\n",
       "    }\n",
       "</style>\n",
       "<table border=\"1\" class=\"dataframe\">\n",
       "  <thead>\n",
       "    <tr style=\"text-align: right;\">\n",
       "      <th></th>\n",
       "      <th>trxSum</th>\n",
       "      <th>monto3um</th>\n",
       "      <th>cluster</th>\n",
       "    </tr>\n",
       "  </thead>\n",
       "  <tbody>\n",
       "    <tr>\n",
       "      <th>0</th>\n",
       "      <td>7.0</td>\n",
       "      <td>278.000000</td>\n",
       "      <td>0</td>\n",
       "    </tr>\n",
       "    <tr>\n",
       "      <th>1</th>\n",
       "      <td>1.0</td>\n",
       "      <td>228.000000</td>\n",
       "      <td>0</td>\n",
       "    </tr>\n",
       "    <tr>\n",
       "      <th>2</th>\n",
       "      <td>13.0</td>\n",
       "      <td>844.000000</td>\n",
       "      <td>0</td>\n",
       "    </tr>\n",
       "    <tr>\n",
       "      <th>3</th>\n",
       "      <td>35.0</td>\n",
       "      <td>1650.666667</td>\n",
       "      <td>2</td>\n",
       "    </tr>\n",
       "    <tr>\n",
       "      <th>4</th>\n",
       "      <td>1.0</td>\n",
       "      <td>7.000000</td>\n",
       "      <td>0</td>\n",
       "    </tr>\n",
       "  </tbody>\n",
       "</table>\n",
       "</div>"
      ],
      "text/plain": [
       "   trxSum     monto3um  cluster\n",
       "0     7.0   278.000000        0\n",
       "1     1.0   228.000000        0\n",
       "2    13.0   844.000000        0\n",
       "3    35.0  1650.666667        2\n",
       "4     1.0     7.000000        0"
      ]
     },
     "execution_count": 36,
     "metadata": {},
     "output_type": "execute_result"
    }
   ],
   "source": [
    "n_cluster = 3\n",
    "dbPrueba['cluster'] = cluster[n_cluster-1]\n",
    "dbPrueba.head()"
   ]
  },
  {
   "cell_type": "code",
   "execution_count": 37,
   "id": "viral-notebook",
   "metadata": {
    "execution": {
     "iopub.execute_input": "2021-05-02T20:03:28.082572Z",
     "iopub.status.busy": "2021-05-02T20:03:28.080976Z",
     "iopub.status.idle": "2021-05-02T20:03:28.660627Z",
     "shell.execute_reply": "2021-05-02T20:03:28.660084Z"
    },
    "papermill": {
     "duration": 0.66306,
     "end_time": "2021-05-02T20:03:28.660780",
     "exception": false,
     "start_time": "2021-05-02T20:03:27.997720",
     "status": "completed"
    },
    "tags": []
   },
   "outputs": [
    {
     "data": {
      "image/png": "[encoded data removed]",
      "text/plain": [
       "<Figure size 432x288 with 1 Axes>"
      ]
     },
     "metadata": {
      "needs_background": "light"
     },
     "output_type": "display_data"
    }
   ],
   "source": [
    "sns.scatterplot(data=dbPrueba, x=\"trxSum\", y=\"monto3um\",\n",
    "                hue='cluster', palette=\"deep\", alpha=1,\n",
    "                style='cluster')\n",
    "plt.show()"
   ]
  },
  {
   "cell_type": "code",
   "execution_count": 38,
   "id": "consecutive-headset",
   "metadata": {
    "execution": {
     "iopub.execute_input": "2021-05-02T20:03:28.813825Z",
     "iopub.status.busy": "2021-05-02T20:03:28.812789Z",
     "iopub.status.idle": "2021-05-02T20:03:29.362067Z",
     "shell.execute_reply": "2021-05-02T20:03:29.361510Z"
    },
    "papermill": {
     "duration": 0.628805,
     "end_time": "2021-05-02T20:03:29.362214",
     "exception": false,
     "start_time": "2021-05-02T20:03:28.733409",
     "status": "completed"
    },
    "tags": []
   },
   "outputs": [
    {
     "data": {
      "image/png": "[encoded data removed]",
      "text/plain": [
       "<Figure size 432x288 with 1 Axes>"
      ]
     },
     "metadata": {
      "needs_background": "light"
     },
     "output_type": "display_data"
    }
   ],
   "source": [
    "sns.scatterplot(data=dbPrueba, x=\"trxSum\", y=\"monto3um\",\n",
    "                hue='cluster', palette=\"deep\", alpha=1,\n",
    "                style='cluster')\n",
    "plt.xlim([0,100])\n",
    "plt.ylim([0,30000])\n",
    "plt.show()"
   ]
  },
  {
   "cell_type": "code",
   "execution_count": 39,
   "id": "enclosed-representation",
   "metadata": {
    "execution": {
     "iopub.execute_input": "2021-05-02T20:03:29.516001Z",
     "iopub.status.busy": "2021-05-02T20:03:29.515319Z",
     "iopub.status.idle": "2021-05-02T20:03:29.534205Z",
     "shell.execute_reply": "2021-05-02T20:03:29.533217Z"
    },
    "papermill": {
     "duration": 0.097897,
     "end_time": "2021-05-02T20:03:29.534363",
     "exception": false,
     "start_time": "2021-05-02T20:03:29.436466",
     "status": "completed"
    },
    "tags": []
   },
   "outputs": [
    {
     "data": {
      "text/html": [
       "<div>\n",
       "<style scoped>\n",
       "    .dataframe tbody tr th:only-of-type {\n",
       "        vertical-align: middle;\n",
       "    }\n",
       "\n",
       "    .dataframe tbody tr th {\n",
       "        vertical-align: top;\n",
       "    }\n",
       "\n",
       "    .dataframe thead th {\n",
       "        text-align: right;\n",
       "    }\n",
       "</style>\n",
       "<table border=\"1\" class=\"dataframe\">\n",
       "  <thead>\n",
       "    <tr style=\"text-align: right;\">\n",
       "      <th></th>\n",
       "      <th>periodo</th>\n",
       "      <th>cliente</th>\n",
       "      <th>M_1</th>\n",
       "      <th>M_2</th>\n",
       "      <th>M_3</th>\n",
       "      <th>monto_1</th>\n",
       "      <th>monto_2</th>\n",
       "      <th>monto_3</th>\n",
       "      <th>trxSum</th>\n",
       "      <th>frec</th>\n",
       "      <th>rec</th>\n",
       "      <th>monto3um</th>\n",
       "      <th>cluster</th>\n",
       "    </tr>\n",
       "  </thead>\n",
       "  <tbody>\n",
       "    <tr>\n",
       "      <th>0</th>\n",
       "      <td>2017-10-01</td>\n",
       "      <td>1</td>\n",
       "      <td>0</td>\n",
       "      <td>1</td>\n",
       "      <td>1</td>\n",
       "      <td>0.0</td>\n",
       "      <td>210.0</td>\n",
       "      <td>346.0</td>\n",
       "      <td>7.0</td>\n",
       "      <td>2</td>\n",
       "      <td>2</td>\n",
       "      <td>278.000000</td>\n",
       "      <td>0.0</td>\n",
       "    </tr>\n",
       "    <tr>\n",
       "      <th>1</th>\n",
       "      <td>2017-10-01</td>\n",
       "      <td>2</td>\n",
       "      <td>1</td>\n",
       "      <td>0</td>\n",
       "      <td>0</td>\n",
       "      <td>228.0</td>\n",
       "      <td>0.0</td>\n",
       "      <td>0.0</td>\n",
       "      <td>1.0</td>\n",
       "      <td>1</td>\n",
       "      <td>3</td>\n",
       "      <td>228.000000</td>\n",
       "      <td>0.0</td>\n",
       "    </tr>\n",
       "    <tr>\n",
       "      <th>2</th>\n",
       "      <td>2017-10-01</td>\n",
       "      <td>3</td>\n",
       "      <td>1</td>\n",
       "      <td>1</td>\n",
       "      <td>1</td>\n",
       "      <td>1691.0</td>\n",
       "      <td>586.0</td>\n",
       "      <td>255.0</td>\n",
       "      <td>13.0</td>\n",
       "      <td>3</td>\n",
       "      <td>3</td>\n",
       "      <td>844.000000</td>\n",
       "      <td>0.0</td>\n",
       "    </tr>\n",
       "    <tr>\n",
       "      <th>3</th>\n",
       "      <td>2017-10-01</td>\n",
       "      <td>4</td>\n",
       "      <td>1</td>\n",
       "      <td>1</td>\n",
       "      <td>1</td>\n",
       "      <td>2650.0</td>\n",
       "      <td>1701.0</td>\n",
       "      <td>601.0</td>\n",
       "      <td>35.0</td>\n",
       "      <td>3</td>\n",
       "      <td>3</td>\n",
       "      <td>1650.666667</td>\n",
       "      <td>2.0</td>\n",
       "    </tr>\n",
       "    <tr>\n",
       "      <th>4</th>\n",
       "      <td>2017-10-01</td>\n",
       "      <td>5</td>\n",
       "      <td>0</td>\n",
       "      <td>1</td>\n",
       "      <td>0</td>\n",
       "      <td>0.0</td>\n",
       "      <td>7.0</td>\n",
       "      <td>0.0</td>\n",
       "      <td>1.0</td>\n",
       "      <td>1</td>\n",
       "      <td>2</td>\n",
       "      <td>7.000000</td>\n",
       "      <td>0.0</td>\n",
       "    </tr>\n",
       "  </tbody>\n",
       "</table>\n",
       "</div>"
      ],
      "text/plain": [
       "     periodo  cliente  M_1  M_2  M_3  monto_1  monto_2  monto_3  trxSum  frec  \\\n",
       "0 2017-10-01        1    0    1    1      0.0    210.0    346.0     7.0     2   \n",
       "1 2017-10-01        2    1    0    0    228.0      0.0      0.0     1.0     1   \n",
       "2 2017-10-01        3    1    1    1   1691.0    586.0    255.0    13.0     3   \n",
       "3 2017-10-01        4    1    1    1   2650.0   1701.0    601.0    35.0     3   \n",
       "4 2017-10-01        5    0    1    0      0.0      7.0      0.0     1.0     1   \n",
       "\n",
       "   rec     monto3um  cluster  \n",
       "0    2   278.000000      0.0  \n",
       "1    3   228.000000      0.0  \n",
       "2    3   844.000000      0.0  \n",
       "3    3  1650.666667      2.0  \n",
       "4    2     7.000000      0.0  "
      ]
     },
     "execution_count": 39,
     "metadata": {},
     "output_type": "execute_result"
    }
   ],
   "source": [
    "dbFinal['cluster'] = dbPrueba['cluster']\n",
    "dbFinal.head()"
   ]
  },
  {
   "cell_type": "markdown",
   "id": "through-military",
   "metadata": {
    "papermill": {
     "duration": 0.074812,
     "end_time": "2021-05-02T20:03:29.684727",
     "exception": false,
     "start_time": "2021-05-02T20:03:29.609915",
     "status": "completed"
    },
    "tags": []
   },
   "source": [
    "**La segmentación por Kmeans tiene más sentido, ya que agrupa las dos variables en base al monto.**"
   ]
  },
  {
   "cell_type": "markdown",
   "id": "thermal-trinidad",
   "metadata": {
    "papermill": {
     "duration": 0.074436,
     "end_time": "2021-05-02T20:03:29.834191",
     "exception": false,
     "start_time": "2021-05-02T20:03:29.759755",
     "status": "completed"
    },
    "tags": []
   },
   "source": [
    "## 5.2 Etiqueta de trxSum y monto3um"
   ]
  },
  {
   "cell_type": "code",
   "execution_count": 40,
   "id": "gentle-battle",
   "metadata": {
    "execution": {
     "iopub.execute_input": "2021-05-02T20:03:29.992470Z",
     "iopub.status.busy": "2021-05-02T20:03:29.991856Z",
     "iopub.status.idle": "2021-05-02T20:03:30.001106Z",
     "shell.execute_reply": "2021-05-02T20:03:30.000341Z"
    },
    "papermill": {
     "duration": 0.0917,
     "end_time": "2021-05-02T20:03:30.001363",
     "exception": false,
     "start_time": "2021-05-02T20:03:29.909663",
     "status": "completed"
    },
    "tags": []
   },
   "outputs": [],
   "source": [
    "dbFinal['monto_x_tran']= np.where(dbFinal['cluster']==2, '2. mediano consumo',\n",
    "                         np.where(dbFinal['cluster']==1, '3. alto consumo',\n",
    "                         np.where(dbFinal['cluster']==0, '1. bajo consumo', 'None',)))"
   ]
  },
  {
   "cell_type": "code",
   "execution_count": 41,
   "id": "interracial-count",
   "metadata": {
    "execution": {
     "iopub.execute_input": "2021-05-02T20:03:30.156261Z",
     "iopub.status.busy": "2021-05-02T20:03:30.155301Z",
     "iopub.status.idle": "2021-05-02T20:03:30.176478Z",
     "shell.execute_reply": "2021-05-02T20:03:30.176917Z"
    },
    "papermill": {
     "duration": 0.099681,
     "end_time": "2021-05-02T20:03:30.177097",
     "exception": false,
     "start_time": "2021-05-02T20:03:30.077416",
     "status": "completed"
    },
    "tags": []
   },
   "outputs": [
    {
     "data": {
      "text/html": [
       "<div>\n",
       "<style scoped>\n",
       "    .dataframe tbody tr th:only-of-type {\n",
       "        vertical-align: middle;\n",
       "    }\n",
       "\n",
       "    .dataframe tbody tr th {\n",
       "        vertical-align: top;\n",
       "    }\n",
       "\n",
       "    .dataframe thead th {\n",
       "        text-align: right;\n",
       "    }\n",
       "</style>\n",
       "<table border=\"1\" class=\"dataframe\">\n",
       "  <thead>\n",
       "    <tr style=\"text-align: right;\">\n",
       "      <th></th>\n",
       "      <th>periodo</th>\n",
       "      <th>cliente</th>\n",
       "      <th>M_1</th>\n",
       "      <th>M_2</th>\n",
       "      <th>M_3</th>\n",
       "      <th>monto_1</th>\n",
       "      <th>monto_2</th>\n",
       "      <th>monto_3</th>\n",
       "      <th>trxSum</th>\n",
       "      <th>frec</th>\n",
       "      <th>rec</th>\n",
       "      <th>monto3um</th>\n",
       "      <th>cluster</th>\n",
       "      <th>monto_x_tran</th>\n",
       "    </tr>\n",
       "  </thead>\n",
       "  <tbody>\n",
       "    <tr>\n",
       "      <th>0</th>\n",
       "      <td>2017-10-01</td>\n",
       "      <td>1</td>\n",
       "      <td>0</td>\n",
       "      <td>1</td>\n",
       "      <td>1</td>\n",
       "      <td>0.0</td>\n",
       "      <td>210.0</td>\n",
       "      <td>346.0</td>\n",
       "      <td>7.0</td>\n",
       "      <td>2</td>\n",
       "      <td>2</td>\n",
       "      <td>278.000000</td>\n",
       "      <td>0.0</td>\n",
       "      <td>1. bajo consumo</td>\n",
       "    </tr>\n",
       "    <tr>\n",
       "      <th>1</th>\n",
       "      <td>2017-10-01</td>\n",
       "      <td>2</td>\n",
       "      <td>1</td>\n",
       "      <td>0</td>\n",
       "      <td>0</td>\n",
       "      <td>228.0</td>\n",
       "      <td>0.0</td>\n",
       "      <td>0.0</td>\n",
       "      <td>1.0</td>\n",
       "      <td>1</td>\n",
       "      <td>3</td>\n",
       "      <td>228.000000</td>\n",
       "      <td>0.0</td>\n",
       "      <td>1. bajo consumo</td>\n",
       "    </tr>\n",
       "    <tr>\n",
       "      <th>2</th>\n",
       "      <td>2017-10-01</td>\n",
       "      <td>3</td>\n",
       "      <td>1</td>\n",
       "      <td>1</td>\n",
       "      <td>1</td>\n",
       "      <td>1691.0</td>\n",
       "      <td>586.0</td>\n",
       "      <td>255.0</td>\n",
       "      <td>13.0</td>\n",
       "      <td>3</td>\n",
       "      <td>3</td>\n",
       "      <td>844.000000</td>\n",
       "      <td>0.0</td>\n",
       "      <td>1. bajo consumo</td>\n",
       "    </tr>\n",
       "    <tr>\n",
       "      <th>3</th>\n",
       "      <td>2017-10-01</td>\n",
       "      <td>4</td>\n",
       "      <td>1</td>\n",
       "      <td>1</td>\n",
       "      <td>1</td>\n",
       "      <td>2650.0</td>\n",
       "      <td>1701.0</td>\n",
       "      <td>601.0</td>\n",
       "      <td>35.0</td>\n",
       "      <td>3</td>\n",
       "      <td>3</td>\n",
       "      <td>1650.666667</td>\n",
       "      <td>2.0</td>\n",
       "      <td>2. mediano consumo</td>\n",
       "    </tr>\n",
       "    <tr>\n",
       "      <th>4</th>\n",
       "      <td>2017-10-01</td>\n",
       "      <td>5</td>\n",
       "      <td>0</td>\n",
       "      <td>1</td>\n",
       "      <td>0</td>\n",
       "      <td>0.0</td>\n",
       "      <td>7.0</td>\n",
       "      <td>0.0</td>\n",
       "      <td>1.0</td>\n",
       "      <td>1</td>\n",
       "      <td>2</td>\n",
       "      <td>7.000000</td>\n",
       "      <td>0.0</td>\n",
       "      <td>1. bajo consumo</td>\n",
       "    </tr>\n",
       "  </tbody>\n",
       "</table>\n",
       "</div>"
      ],
      "text/plain": [
       "     periodo  cliente  M_1  M_2  M_3  monto_1  monto_2  monto_3  trxSum  frec  \\\n",
       "0 2017-10-01        1    0    1    1      0.0    210.0    346.0     7.0     2   \n",
       "1 2017-10-01        2    1    0    0    228.0      0.0      0.0     1.0     1   \n",
       "2 2017-10-01        3    1    1    1   1691.0    586.0    255.0    13.0     3   \n",
       "3 2017-10-01        4    1    1    1   2650.0   1701.0    601.0    35.0     3   \n",
       "4 2017-10-01        5    0    1    0      0.0      7.0      0.0     1.0     1   \n",
       "\n",
       "   rec     monto3um  cluster        monto_x_tran  \n",
       "0    2   278.000000      0.0     1. bajo consumo  \n",
       "1    3   228.000000      0.0     1. bajo consumo  \n",
       "2    3   844.000000      0.0     1. bajo consumo  \n",
       "3    3  1650.666667      2.0  2. mediano consumo  \n",
       "4    2     7.000000      0.0     1. bajo consumo  "
      ]
     },
     "execution_count": 41,
     "metadata": {},
     "output_type": "execute_result"
    }
   ],
   "source": [
    "dbFinal = dbFinal.drop(dbFinal[dbFinal['monto3um']>40000].index)\n",
    "dbFinal.head()"
   ]
  },
  {
   "cell_type": "code",
   "execution_count": 42,
   "id": "floating-generation",
   "metadata": {
    "execution": {
     "iopub.execute_input": "2021-05-02T20:03:30.333702Z",
     "iopub.status.busy": "2021-05-02T20:03:30.332724Z",
     "iopub.status.idle": "2021-05-02T20:03:30.886522Z",
     "shell.execute_reply": "2021-05-02T20:03:30.886962Z"
    },
    "papermill": {
     "duration": 0.634351,
     "end_time": "2021-05-02T20:03:30.887137",
     "exception": false,
     "start_time": "2021-05-02T20:03:30.252786",
     "status": "completed"
    },
    "tags": []
   },
   "outputs": [
    {
     "data": {
      "image/png": "[encoded data removed]",
      "text/plain": [
       "<Figure size 432x288 with 1 Axes>"
      ]
     },
     "metadata": {
      "needs_background": "light"
     },
     "output_type": "display_data"
    }
   ],
   "source": [
    "sns.scatterplot(data=dbFinal, x=\"trxSum\", y=\"monto3um\",\n",
    "                hue='monto_x_tran', palette=\"deep\", alpha=1,\n",
    "                style='monto_x_tran')\n",
    "plt.show()"
   ]
  },
  {
   "cell_type": "code",
   "execution_count": 43,
   "id": "ready-culture",
   "metadata": {
    "execution": {
     "iopub.execute_input": "2021-05-02T20:03:31.045344Z",
     "iopub.status.busy": "2021-05-02T20:03:31.044371Z",
     "iopub.status.idle": "2021-05-02T20:03:31.059647Z",
     "shell.execute_reply": "2021-05-02T20:03:31.059163Z"
    },
    "papermill": {
     "duration": 0.096711,
     "end_time": "2021-05-02T20:03:31.059786",
     "exception": false,
     "start_time": "2021-05-02T20:03:30.963075",
     "status": "completed"
    },
    "tags": []
   },
   "outputs": [
    {
     "data": {
      "text/html": [
       "<div>\n",
       "<style scoped>\n",
       "    .dataframe tbody tr th:only-of-type {\n",
       "        vertical-align: middle;\n",
       "    }\n",
       "\n",
       "    .dataframe tbody tr th {\n",
       "        vertical-align: top;\n",
       "    }\n",
       "\n",
       "    .dataframe thead th {\n",
       "        text-align: right;\n",
       "    }\n",
       "</style>\n",
       "<table border=\"1\" class=\"dataframe\">\n",
       "  <thead>\n",
       "    <tr style=\"text-align: right;\">\n",
       "      <th></th>\n",
       "      <th>periodo</th>\n",
       "      <th>cliente</th>\n",
       "      <th>rec</th>\n",
       "      <th>frec</th>\n",
       "      <th>monto3um</th>\n",
       "      <th>trxSum</th>\n",
       "      <th>monto_x_tran</th>\n",
       "    </tr>\n",
       "  </thead>\n",
       "  <tbody>\n",
       "    <tr>\n",
       "      <th>0</th>\n",
       "      <td>2017-10-01</td>\n",
       "      <td>1</td>\n",
       "      <td>2</td>\n",
       "      <td>2</td>\n",
       "      <td>278.000000</td>\n",
       "      <td>7.0</td>\n",
       "      <td>1. bajo consumo</td>\n",
       "    </tr>\n",
       "    <tr>\n",
       "      <th>1</th>\n",
       "      <td>2017-10-01</td>\n",
       "      <td>2</td>\n",
       "      <td>3</td>\n",
       "      <td>1</td>\n",
       "      <td>228.000000</td>\n",
       "      <td>1.0</td>\n",
       "      <td>1. bajo consumo</td>\n",
       "    </tr>\n",
       "    <tr>\n",
       "      <th>2</th>\n",
       "      <td>2017-10-01</td>\n",
       "      <td>3</td>\n",
       "      <td>3</td>\n",
       "      <td>3</td>\n",
       "      <td>844.000000</td>\n",
       "      <td>13.0</td>\n",
       "      <td>1. bajo consumo</td>\n",
       "    </tr>\n",
       "    <tr>\n",
       "      <th>3</th>\n",
       "      <td>2017-10-01</td>\n",
       "      <td>4</td>\n",
       "      <td>3</td>\n",
       "      <td>3</td>\n",
       "      <td>1650.666667</td>\n",
       "      <td>35.0</td>\n",
       "      <td>2. mediano consumo</td>\n",
       "    </tr>\n",
       "    <tr>\n",
       "      <th>4</th>\n",
       "      <td>2017-10-01</td>\n",
       "      <td>5</td>\n",
       "      <td>2</td>\n",
       "      <td>1</td>\n",
       "      <td>7.000000</td>\n",
       "      <td>1.0</td>\n",
       "      <td>1. bajo consumo</td>\n",
       "    </tr>\n",
       "  </tbody>\n",
       "</table>\n",
       "</div>"
      ],
      "text/plain": [
       "     periodo  cliente  rec  frec     monto3um  trxSum        monto_x_tran\n",
       "0 2017-10-01        1    2     2   278.000000     7.0     1. bajo consumo\n",
       "1 2017-10-01        2    3     1   228.000000     1.0     1. bajo consumo\n",
       "2 2017-10-01        3    3     3   844.000000    13.0     1. bajo consumo\n",
       "3 2017-10-01        4    3     3  1650.666667    35.0  2. mediano consumo\n",
       "4 2017-10-01        5    2     1     7.000000     1.0     1. bajo consumo"
      ]
     },
     "execution_count": 43,
     "metadata": {},
     "output_type": "execute_result"
    }
   ],
   "source": [
    "dbFinal = dbFinal[['periodo','cliente','rec','frec','monto3um','trxSum','monto_x_tran']]\n",
    "dbFinal.head()"
   ]
  },
  {
   "cell_type": "markdown",
   "id": "domestic-trick",
   "metadata": {
    "papermill": {
     "duration": 0.077697,
     "end_time": "2021-05-02T20:03:31.214352",
     "exception": false,
     "start_time": "2021-05-02T20:03:31.136655",
     "status": "completed"
    },
    "tags": []
   },
   "source": [
    "Eliminamos los valores anómalos."
   ]
  },
  {
   "cell_type": "code",
   "execution_count": 44,
   "id": "activated-convention",
   "metadata": {
    "execution": {
     "iopub.execute_input": "2021-05-02T20:03:31.375687Z",
     "iopub.status.busy": "2021-05-02T20:03:31.375085Z",
     "iopub.status.idle": "2021-05-02T20:03:31.389305Z",
     "shell.execute_reply": "2021-05-02T20:03:31.388103Z"
    },
    "papermill": {
     "duration": 0.098057,
     "end_time": "2021-05-02T20:03:31.389451",
     "exception": false,
     "start_time": "2021-05-02T20:03:31.291394",
     "status": "completed"
    },
    "tags": []
   },
   "outputs": [
    {
     "data": {
      "text/html": [
       "<div>\n",
       "<style scoped>\n",
       "    .dataframe tbody tr th:only-of-type {\n",
       "        vertical-align: middle;\n",
       "    }\n",
       "\n",
       "    .dataframe tbody tr th {\n",
       "        vertical-align: top;\n",
       "    }\n",
       "\n",
       "    .dataframe thead th {\n",
       "        text-align: right;\n",
       "    }\n",
       "</style>\n",
       "<table border=\"1\" class=\"dataframe\">\n",
       "  <thead>\n",
       "    <tr style=\"text-align: right;\">\n",
       "      <th></th>\n",
       "      <th>periodo</th>\n",
       "      <th>cliente</th>\n",
       "      <th>rec</th>\n",
       "      <th>frec</th>\n",
       "      <th>monto3um</th>\n",
       "      <th>trxSum</th>\n",
       "      <th>monto_x_tran</th>\n",
       "    </tr>\n",
       "  </thead>\n",
       "  <tbody>\n",
       "    <tr>\n",
       "      <th>4144</th>\n",
       "      <td>2017-10-01</td>\n",
       "      <td>10175</td>\n",
       "      <td>1</td>\n",
       "      <td>1</td>\n",
       "      <td>0.0</td>\n",
       "      <td>1.0</td>\n",
       "      <td>1. bajo consumo</td>\n",
       "    </tr>\n",
       "    <tr>\n",
       "      <th>7588</th>\n",
       "      <td>2017-10-01</td>\n",
       "      <td>20242</td>\n",
       "      <td>3</td>\n",
       "      <td>1</td>\n",
       "      <td>0.0</td>\n",
       "      <td>1.0</td>\n",
       "      <td>1. bajo consumo</td>\n",
       "    </tr>\n",
       "  </tbody>\n",
       "</table>\n",
       "</div>"
      ],
      "text/plain": [
       "        periodo  cliente  rec  frec  monto3um  trxSum     monto_x_tran\n",
       "4144 2017-10-01    10175    1     1       0.0     1.0  1. bajo consumo\n",
       "7588 2017-10-01    20242    3     1       0.0     1.0  1. bajo consumo"
      ]
     },
     "execution_count": 44,
     "metadata": {},
     "output_type": "execute_result"
    }
   ],
   "source": [
    "dbFinal[((dbFinal['frec']>0) & (dbFinal['monto3um']==0))].head()"
   ]
  },
  {
   "cell_type": "code",
   "execution_count": 45,
   "id": "persistent-threat",
   "metadata": {
    "execution": {
     "iopub.execute_input": "2021-05-02T20:03:31.550374Z",
     "iopub.status.busy": "2021-05-02T20:03:31.549609Z",
     "iopub.status.idle": "2021-05-02T20:03:31.554324Z",
     "shell.execute_reply": "2021-05-02T20:03:31.554775Z"
    },
    "papermill": {
     "duration": 0.087506,
     "end_time": "2021-05-02T20:03:31.554944",
     "exception": false,
     "start_time": "2021-05-02T20:03:31.467438",
     "status": "completed"
    },
    "tags": []
   },
   "outputs": [],
   "source": [
    "dbFinal = dbFinal[~((dbFinal['frec']>0) & (dbFinal['monto3um']==0))]"
   ]
  },
  {
   "cell_type": "markdown",
   "id": "trained-visiting",
   "metadata": {
    "papermill": {
     "duration": 0.078314,
     "end_time": "2021-05-02T20:03:31.712122",
     "exception": false,
     "start_time": "2021-05-02T20:03:31.633808",
     "status": "completed"
    },
    "tags": []
   },
   "source": [
    "## 5.3 Distribución RFM + t"
   ]
  },
  {
   "cell_type": "markdown",
   "id": "running-penny",
   "metadata": {
    "papermill": {
     "duration": 0.077947,
     "end_time": "2021-05-02T20:03:31.867748",
     "exception": false,
     "start_time": "2021-05-02T20:03:31.789801",
     "status": "completed"
    },
    "tags": []
   },
   "source": [
    "Este paso nos dará la propuesta de la primera distribución o los grupos propuestos donde nuestros clientes están almacenados, es aquí donde surge el debate y analizan cuales serían los grupos finales para el negocio."
   ]
  },
  {
   "cell_type": "code",
   "execution_count": 46,
   "id": "structural-violation",
   "metadata": {
    "execution": {
     "iopub.execute_input": "2021-05-02T20:03:32.033678Z",
     "iopub.status.busy": "2021-05-02T20:03:32.033059Z",
     "iopub.status.idle": "2021-05-02T20:03:32.060261Z",
     "shell.execute_reply": "2021-05-02T20:03:32.061084Z"
    },
    "papermill": {
     "duration": 0.115573,
     "end_time": "2021-05-02T20:03:32.061372",
     "exception": false,
     "start_time": "2021-05-02T20:03:31.945799",
     "status": "completed"
    },
    "tags": []
   },
   "outputs": [
    {
     "name": "stdout",
     "output_type": "stream",
     "text": [
      "Clientes Total: 10804\n",
      "\n",
      "    rec  frec        monto_x_tran  cliente      monto3um     %\n",
      "0     3     3     3. alto consumo       23  3.253770e+05   0.2\n",
      "1     3     3  2. mediano consumo      373  9.495517e+05   3.5\n",
      "2     3     3     1. bajo consumo     4585  1.426960e+06  42.4\n",
      "3     3     2     3. alto consumo        2  1.893650e+04   0.0\n",
      "4     3     2  2. mediano consumo       86  1.885815e+05   0.8\n",
      "5     3     2     1. bajo consumo     1944  4.306995e+05  18.0\n",
      "6     3     1     3. alto consumo        5  6.373300e+04   0.0\n",
      "7     3     1  2. mediano consumo       41  1.103000e+05   0.4\n",
      "8     3     1     1. bajo consumo     1334  2.330020e+05  12.3\n",
      "9     2     2     3. alto consumo        2  3.676500e+04   0.0\n",
      "10    2     2  2. mediano consumo       40  1.032720e+05   0.4\n",
      "11    2     2     1. bajo consumo      955  2.251220e+05   8.8\n",
      "12    2     1     3. alto consumo        1  2.550000e+04   0.0\n",
      "13    2     1  2. mediano consumo       28  6.781100e+04   0.3\n",
      "14    2     1     1. bajo consumo      646  1.162060e+05   6.0\n",
      "15    1     1  2. mediano consumo       25  8.055100e+04   0.2\n",
      "16    1     1     1. bajo consumo      714  1.284050e+05   6.6\n"
     ]
    }
   ],
   "source": [
    "#nTotal = dbFinal.count()[0]\n",
    "#dbRfm = dbFinal.groupby(['rec','frec','monto']).agg({'cliente':'count'}).sort_values(by=['rec','frec'], ascending=False)\n",
    "nTotal = dbFinal[dbFinal['rec']>0].count()[0]\n",
    "resumRfm = dbFinal[dbFinal['rec']>0].groupby(['rec','frec','monto_x_tran']).agg({'cliente':'count', 'monto3um':'sum'})\\\n",
    "                                 .sort_values(by=['rec','frec','monto_x_tran'], ascending=False)\n",
    "\n",
    "resumRfm = resumRfm.reset_index()\n",
    "resumRfm['%'] = round(100*resumRfm['cliente']/nTotal,1)\n",
    "print(f'Clientes Total: {nTotal}\\n')\n",
    "print(resumRfm)"
   ]
  },
  {
   "cell_type": "code",
   "execution_count": 47,
   "id": "turkish-athens",
   "metadata": {
    "execution": {
     "iopub.execute_input": "2021-05-02T20:03:32.226052Z",
     "iopub.status.busy": "2021-05-02T20:03:32.225434Z",
     "iopub.status.idle": "2021-05-02T20:03:32.251980Z",
     "shell.execute_reply": "2021-05-02T20:03:32.252478Z"
    },
    "papermill": {
     "duration": 0.109512,
     "end_time": "2021-05-02T20:03:32.252667",
     "exception": false,
     "start_time": "2021-05-02T20:03:32.143155",
     "status": "completed"
    },
    "tags": []
   },
   "outputs": [
    {
     "name": "stdout",
     "output_type": "stream",
     "text": [
      "Clientes Total: 10804\n",
      "\n",
      "************Tabla ordenada por el monto consumido(monto3um)************\n",
      "\n",
      "    rec  frec        monto_x_tran  cliente      monto3um     %\n",
      "0     3     3     1. bajo consumo     4585  1.426960e+06  42.4\n",
      "1     3     3  2. mediano consumo      373  9.495517e+05   3.5\n",
      "2     3     2     1. bajo consumo     1944  4.306995e+05  18.0\n",
      "3     3     3     3. alto consumo       23  3.253770e+05   0.2\n",
      "4     3     1     1. bajo consumo     1334  2.330020e+05  12.3\n",
      "5     2     2     1. bajo consumo      955  2.251220e+05   8.8\n",
      "6     3     2  2. mediano consumo       86  1.885815e+05   0.8\n",
      "7     1     1     1. bajo consumo      714  1.284050e+05   6.6\n",
      "8     2     1     1. bajo consumo      646  1.162060e+05   6.0\n",
      "9     3     1  2. mediano consumo       41  1.103000e+05   0.4\n",
      "10    2     2  2. mediano consumo       40  1.032720e+05   0.4\n",
      "11    1     1  2. mediano consumo       25  8.055100e+04   0.2\n",
      "12    2     1  2. mediano consumo       28  6.781100e+04   0.3\n",
      "13    3     1     3. alto consumo        5  6.373300e+04   0.0\n",
      "14    2     2     3. alto consumo        2  3.676500e+04   0.0\n",
      "15    2     1     3. alto consumo        1  2.550000e+04   0.0\n",
      "16    3     2     3. alto consumo        2  1.893650e+04   0.0\n"
     ]
    }
   ],
   "source": [
    "#nTotal = dbFinal.count()[0]\n",
    "#dbRfm = dbFinal.groupby(['rec','frec','monto']).agg({'cliente':'count'}).sort_values(by=['rec','frec'], ascending=False)\n",
    "nTotal = dbFinal[dbFinal['rec']>0].count()[0]\n",
    "resumRfm = dbFinal[dbFinal['rec']>0].groupby(['rec','frec','monto_x_tran']).agg({'cliente':'count', 'monto3um':'sum'})\\\n",
    "                                 .sort_values(by=['monto3um'], ascending=False)\n",
    "\n",
    "resumRfm = resumRfm.reset_index()\n",
    "resumRfm['%'] = round(100*resumRfm['cliente']/nTotal,1)\n",
    "print(f'Clientes Total: {nTotal}\\n')\n",
    "print('************Tabla ordenada por el monto consumido(monto3um)************')\n",
    "print()\n",
    "print(resumRfm)"
   ]
  },
  {
   "cell_type": "markdown",
   "id": "parallel-community",
   "metadata": {
    "papermill": {
     "duration": 0.079072,
     "end_time": "2021-05-02T20:03:32.410417",
     "exception": false,
     "start_time": "2021-05-02T20:03:32.331345",
     "status": "completed"
    },
    "tags": []
   },
   "source": [
    "Analizaremos cada índice del dataframe ***resumRfm***, para justificar la segmentación.\n",
    "\n",
    "Nota: El 0 indica el índice 0 del dataframe ***resumRfm*** donde:\n",
    "\n",
    "        rec  frec        monto_x_tran  cliente      monto3um     %\n",
    "    0     3     3  1. bajo comsumo     4585  1.426960e+06  42.4\n",
    "\n",
    "0: Clientes frecuentes que debemos conservar e incentivar a que consuman más (***Posible Satisfecho***)\n",
    "\n",
    "1: Clientes de mediano consumo y con preferencia por nuestro mercado (***Satisfecho***)\n",
    "\n",
    "2: Clientes con bajo consumo debemos mejorar su presencia y consumo (***Bajo***)\n",
    "\n",
    "3: Clientes top, estos clientes se deben mantener debido a su alto consumo y preferencia por nuestro mercado (***Cliente Estrella***)\n",
    "\n",
    "4: Clientes que nos consumieron en el mes más reciente, pero con un consumo bajo (***Bajo***)\n",
    "\n",
    "5: Clientes que consumen poco y están perdiendo interés por nuestro mercado (***Bajo***)\n",
    "\n",
    "6: Clientes con buen consumo y que si mejoramos su preferencia por nuestro mercado serían posibles clientes satisfechos (***Posible Satisfecho***)\n",
    "\n",
    "7: Clientes con bajo consumo y poco interés en nuestro mercado (***Bajo***)\n",
    "\n",
    "8: Clientes con bajo consumo y poco interés en nuestro mercado  (***Bajo***)\n",
    "\n",
    "9: Cliente con buen consumo y reciente presencia en nuestro mercado, si consolidamos su preferencia en nuestro mercado serían posibles clientes satisfechos (***Posible Satisfecho***)\n",
    "\n",
    "10: Cliente con buen consumo y con presencia en nuestro mercado, si consolidamos su preferencia en nuestro mercado serían posibles clientes satisfechos  (***Posible Satisfecho***)\n",
    "\n",
    "11: Clientes con buen consumo y están perdiendo interés en nuestro mercado (***Insatisfecho***)\n",
    "\n",
    "12: Clientes con buen consumo y están perdiendo interés en nuestro mercado (***Insatisfecho***)\n",
    "\n",
    "13: Nuevo cliente posible top debido a su alto consumo hay potencial aquí (***Posible Cliente Estrella***)\n",
    "\n",
    "14: Clientes que no se deben perder ya que son buenos clientes debido a su alto consumo y han visitado nuestro mercado en los 2 anteriores mese, se debe incentivar (***Posible Cliente Estrella***)\n",
    "\n",
    "15: Cliente ocasional con potencial a ser cliente estrella (***Posible Cliente Estrella***)\n",
    "\n",
    "16: Clientes que si llegamos a consolidar su preferencia por nuestro mercado, se convertiría en un cliente estrella (***Posible Cliente Estrella***)"
   ]
  },
  {
   "cell_type": "markdown",
   "id": "first-greene",
   "metadata": {
    "papermill": {
     "duration": 0.079833,
     "end_time": "2021-05-02T20:03:32.568458",
     "exception": false,
     "start_time": "2021-05-02T20:03:32.488625",
     "status": "completed"
    },
    "tags": []
   },
   "source": [
    "***TENEMOS 6 GRUPOS DE CLIENTES, ESTOS SON:***\n",
    "\n",
    "    - 1. Bajo\n",
    "    - 2. Insatisfecho\n",
    "    - 3. Posible Satisfecho\n",
    "    - 4. Satisfecho\n",
    "    - 5. Potencial Estrella\n",
    "    - 6. Estrella"
   ]
  },
  {
   "cell_type": "markdown",
   "id": "coordinated-marker",
   "metadata": {
    "papermill": {
     "duration": 0.077876,
     "end_time": "2021-05-02T20:03:32.727888",
     "exception": false,
     "start_time": "2021-05-02T20:03:32.650012",
     "status": "completed"
    },
    "tags": []
   },
   "source": [
    "        rec  frec        monto_x_tran  cliente      monto3um     %\n",
    "        \n",
    "    2     3     2     1. bajo consumo     1944  4.306995e+05  18.0 : Bajo\n",
    "    4     3     1     1. bajo consumo     1334  2.330020e+05  12.3 : Bajo\n",
    "    5     2     2     1. bajo consumo      955  2.251220e+05   8.8 : Bajo\n",
    "    7     1     1     1. bajo consumo      714  1.284050e+05   6.6 : Bajo\n",
    "    8     2     1     1. bajo consumo      646  1.162060e+05   6.0 : Bajo\n",
    "    \n",
    "    11    1     1  2. mediano consumo       25  8.055100e+04   0.2 : Insatisfecho\n",
    "    12    2     1  2. mediano consumo       28  6.781100e+04   0.3 : Insatisfecho\n",
    "    \n",
    "    0     3     3     1. bajo consumo     4585  1.426960e+06  42.4 : Posible Satisfecho\n",
    "    6     3     2  2. mediano consumo       86  1.885815e+05   0.8 : Posible Satisfecho\n",
    "    9     3     1  2. mediano consumo       41  1.103000e+05   0.4 : Posible Satisfecho\n",
    "    10    2     2  2. mediano consumo       40  1.032720e+05   0.4 : Posible Satisfecho\n",
    "    \n",
    "    1     3     3  2. mediano consumo      373  9.495517e+05   3.5 : Satisfecho\n",
    "    \n",
    "    13    3     1     3. alto consumo        5  6.373300e+04   0.0 : Posible Cliente Estrella\n",
    "    14    2     2     3. alto consumo        2  3.676500e+04   0.0 : Posible Cliente Estrella\n",
    "    15    2     1     3. alto consumo        1  2.550000e+04   0.0 : Posible Cliente Estrella\n",
    "    16    3     2     3. alto consumo        2  1.893650e+04   0.0 : Posible Cliente Estrella\n",
    "    \n",
    "    3     3     3     3. alto consumo       23  3.253770e+05   0.2 : Cliente Estrella"
   ]
  },
  {
   "cell_type": "markdown",
   "id": "wrong-potato",
   "metadata": {
    "papermill": {
     "duration": 0.079135,
     "end_time": "2021-05-02T20:03:32.885372",
     "exception": false,
     "start_time": "2021-05-02T20:03:32.806237",
     "status": "completed"
    },
    "tags": []
   },
   "source": [
    "# 6. RFM método Clásico o Experto"
   ]
  },
  {
   "cell_type": "markdown",
   "id": "naked-thickness",
   "metadata": {
    "papermill": {
     "duration": 0.080194,
     "end_time": "2021-05-02T20:03:33.044062",
     "exception": false,
     "start_time": "2021-05-02T20:03:32.963868",
     "status": "completed"
    },
    "tags": []
   },
   "source": [
    "***A partir de la base de datos construída, y luego de analizar las distribuciones, se concluirán los nombres de los grupos conjuntamente con las características de la frecuencia, recencia y monto.***"
   ]
  },
  {
   "cell_type": "markdown",
   "id": "tracked-armor",
   "metadata": {
    "papermill": {
     "duration": 0.079976,
     "end_time": "2021-05-02T20:03:33.203383",
     "exception": false,
     "start_time": "2021-05-02T20:03:33.123407",
     "status": "completed"
    },
    "tags": []
   },
   "source": [
    "Este análisis se realizó teniendo en cuenta la experiencia del analista en el negocio el cual puede identificar los grupos con la información dada y apuntando lo que necesita.\n"
   ]
  },
  {
   "cell_type": "markdown",
   "id": "encouraging-practitioner",
   "metadata": {
    "papermill": {
     "duration": 0.079088,
     "end_time": "2021-05-02T20:03:33.361335",
     "exception": false,
     "start_time": "2021-05-02T20:03:33.282247",
     "status": "completed"
    },
    "tags": []
   },
   "source": [
    "## 6.1 Etiqueta de los segmentos:"
   ]
  },
  {
   "cell_type": "code",
   "execution_count": 48,
   "id": "wireless-boards",
   "metadata": {
    "execution": {
     "iopub.execute_input": "2021-05-02T20:03:33.520291Z",
     "iopub.status.busy": "2021-05-02T20:03:33.519720Z",
     "iopub.status.idle": "2021-05-02T20:03:33.526711Z",
     "shell.execute_reply": "2021-05-02T20:03:33.527209Z"
    },
    "papermill": {
     "duration": 0.088046,
     "end_time": "2021-05-02T20:03:33.527386",
     "exception": false,
     "start_time": "2021-05-02T20:03:33.439340",
     "status": "completed"
    },
    "tags": []
   },
   "outputs": [],
   "source": [
    "dbRfm = pd.DataFrame()\n",
    "dbRfm = dbFinal[dbFinal['rec']>0].copy()"
   ]
  },
  {
   "cell_type": "code",
   "execution_count": 49,
   "id": "minor-decimal",
   "metadata": {
    "execution": {
     "iopub.execute_input": "2021-05-02T20:03:33.699598Z",
     "iopub.status.busy": "2021-05-02T20:03:33.698551Z",
     "iopub.status.idle": "2021-05-02T20:03:33.749546Z",
     "shell.execute_reply": "2021-05-02T20:03:33.749009Z"
    },
    "papermill": {
     "duration": 0.142993,
     "end_time": "2021-05-02T20:03:33.749709",
     "exception": false,
     "start_time": "2021-05-02T20:03:33.606716",
     "status": "completed"
    },
    "tags": []
   },
   "outputs": [],
   "source": [
    "dbRfm.loc[(dbRfm['rec']==3)&(dbRfm['frec']==2)&(dbRfm['monto_x_tran']=='1. bajo consumo'),'rfm_t'] = '1. Bajo'\n",
    "dbRfm.loc[(dbRfm['rec']==3)&(dbRfm['frec']==1)&(dbRfm['monto_x_tran']=='1. bajo consumo'),'rfm_t'] = '1. Bajo'\n",
    "dbRfm.loc[(dbRfm['rec']==2)&(dbRfm['frec']==2)&(dbRfm['monto_x_tran']=='1. bajo consumo'),'rfm_t'] = '1. Bajo'\n",
    "dbRfm.loc[(dbRfm['rec']==1)&(dbRfm['frec']==1)&(dbRfm['monto_x_tran']=='1. bajo consumo'),'rfm_t'] = '1. Bajo'\n",
    "dbRfm.loc[(dbRfm['rec']==2)&(dbRfm['frec']==1)&(dbRfm['monto_x_tran']=='1. bajo consumo'),'rfm_t'] = '1. Bajo'\n",
    "\n",
    "dbRfm.loc[(dbRfm['rec']==1)&(dbRfm['frec']==1)&(dbRfm['monto_x_tran']=='2. mediano consumo'),'rfm_t'] = '2. Insatisfecho'\n",
    "dbRfm.loc[(dbRfm['rec']==2)&(dbRfm['frec']==1)&(dbRfm['monto_x_tran']=='2. mediano consumo'),'rfm_t'] = '2. Insatisfecho'\n",
    "\n",
    "dbRfm.loc[(dbRfm['rec']==3)&(dbRfm['frec']==3)&(dbRfm['monto_x_tran']=='1. bajo consumo'),'rfm_t'] = '3. Posible Satisfecho'\n",
    "dbRfm.loc[(dbRfm['rec']==3)&(dbRfm['frec']==2)&(dbRfm['monto_x_tran']=='2. mediano consumo'),'rfm_t'] = '3. Posible Satisfecho'\n",
    "dbRfm.loc[(dbRfm['rec']==3)&(dbRfm['frec']==1)&(dbRfm['monto_x_tran']=='2. mediano consumo'),'rfm_t'] = '3. Posible Satisfecho'\n",
    "dbRfm.loc[(dbRfm['rec']==2)&(dbRfm['frec']==2)&(dbRfm['monto_x_tran']=='2. mediano consumo'),'rfm_t'] = '3. Posible Satisfecho'\n",
    "\n",
    "dbRfm.loc[(dbRfm['rec']==3)&(dbRfm['frec']==3)&(dbRfm['monto_x_tran']=='2. mediano consumo'),'rfm_t'] = '4. Satisfecho'\n",
    "\n",
    "dbRfm.loc[(dbRfm['rec']==3)&(dbRfm['frec']==1)&(dbRfm['monto_x_tran']=='3. alto consumo'),'rfm_t'] = '5. Posible Estrella'\n",
    "dbRfm.loc[(dbRfm['rec']==2)&(dbRfm['frec']==2)&(dbRfm['monto_x_tran']=='3. alto consumo'),'rfm_t'] = '5. Posible Estrella'\n",
    "dbRfm.loc[(dbRfm['rec']==2)&(dbRfm['frec']==1)&(dbRfm['monto_x_tran']=='3. alto consumo'),'rfm_t'] = '5. Posible Estrella'\n",
    "dbRfm.loc[(dbRfm['rec']==3)&(dbRfm['frec']==2)&(dbRfm['monto_x_tran']=='3. alto consumo'),'rfm_t'] = '5. Posible Estrella'\n",
    "\n",
    "dbRfm.loc[(dbRfm['rec']==3)&(dbRfm['frec']==3)&(dbRfm['monto_x_tran']=='3. alto consumo'),'rfm_t'] = '6. Estrella'"
   ]
  },
  {
   "cell_type": "markdown",
   "id": "dangerous-fraud",
   "metadata": {
    "papermill": {
     "duration": 0.079144,
     "end_time": "2021-05-02T20:03:33.908132",
     "exception": false,
     "start_time": "2021-05-02T20:03:33.828988",
     "status": "completed"
    },
    "tags": []
   },
   "source": [
    "## 6.2 Conclusión de segmento:"
   ]
  },
  {
   "cell_type": "markdown",
   "id": "under-copper",
   "metadata": {
    "papermill": {
     "duration": 0.079664,
     "end_time": "2021-05-02T20:03:34.067346",
     "exception": false,
     "start_time": "2021-05-02T20:03:33.987682",
     "status": "completed"
    },
    "tags": []
   },
   "source": [
    "Le damos los nombres según características"
   ]
  },
  {
   "cell_type": "code",
   "execution_count": 50,
   "id": "charitable-glossary",
   "metadata": {
    "execution": {
     "iopub.execute_input": "2021-05-02T20:03:34.307609Z",
     "iopub.status.busy": "2021-05-02T20:03:34.306995Z",
     "iopub.status.idle": "2021-05-02T20:03:34.329589Z",
     "shell.execute_reply": "2021-05-02T20:03:34.330064Z"
    },
    "papermill": {
     "duration": 0.116607,
     "end_time": "2021-05-02T20:03:34.330231",
     "exception": false,
     "start_time": "2021-05-02T20:03:34.213624",
     "status": "completed"
    },
    "tags": []
   },
   "outputs": [
    {
     "name": "stdout",
     "output_type": "stream",
     "text": [
      "Clientes Total: 10804\n",
      "\n",
      "                   rfm_t  cliente       rec      frec      monto3um   trxSum  \\\n",
      "0                1. Bajo     5593  2.458430  1.518326  1.133434e+06  21357.0   \n",
      "1        2. Insatisfecho       53  1.528302  1.000000  1.483620e+05    171.0   \n",
      "2  3. Posible Satisfecho     4752  2.991582  2.956229  1.829114e+06  58791.0   \n",
      "3          4. Satisfecho      373  3.000000  3.000000  9.495517e+05  10216.0   \n",
      "4    5. Posible Estrella       10  2.700000  1.400000  1.449345e+05    116.0   \n",
      "5            6. Estrella       23  3.000000  3.000000  3.253770e+05   1020.0   \n",
      "\n",
      "   %_cliente  %_consumo  \n",
      "0       51.8       25.0  \n",
      "1        0.5        3.3  \n",
      "2       44.0       40.4  \n",
      "3        3.5       21.0  \n",
      "4        0.1        3.2  \n",
      "5        0.2        7.2  \n"
     ]
    }
   ],
   "source": [
    "resum = dbRfm.groupby('rfm_t').agg({'cliente':'count','rec':'mean','frec':'mean','monto3um':'sum', 'trxSum':'sum'})\\\n",
    "                                 .sort_values(by='rfm_t')\n",
    "resum = resum.reset_index()\n",
    "resum['%_cliente'] = round(100*resum['cliente']/dbRfm.count()[0],1)\n",
    "resum['%_consumo'] = round(100*resum['monto3um']/dbRfm.monto3um.sum(),1)\n",
    "print(f'Clientes Total: {dbRfm.count()[0]}\\n')\n",
    "print(resum)"
   ]
  },
  {
   "cell_type": "markdown",
   "id": "unauthorized-massachusetts",
   "metadata": {
    "papermill": {
     "duration": 0.08052,
     "end_time": "2021-05-02T20:03:34.492122",
     "exception": false,
     "start_time": "2021-05-02T20:03:34.411602",
     "status": "completed"
    },
    "tags": []
   },
   "source": [
    "Visualizamos los segmentos RFM + t para el universo de nuestros clientes, esta distribución será referente para los siguientes meses en que se realice la réplica del estudio.\n"
   ]
  },
  {
   "cell_type": "code",
   "execution_count": 51,
   "id": "attempted-munich",
   "metadata": {
    "execution": {
     "iopub.execute_input": "2021-05-02T20:03:34.683938Z",
     "iopub.status.busy": "2021-05-02T20:03:34.678776Z",
     "iopub.status.idle": "2021-05-02T20:03:34.775701Z",
     "shell.execute_reply": "2021-05-02T20:03:34.774713Z"
    },
    "papermill": {
     "duration": 0.204509,
     "end_time": "2021-05-02T20:03:34.775906",
     "exception": false,
     "start_time": "2021-05-02T20:03:34.571397",
     "status": "completed"
    },
    "tags": []
   },
   "outputs": [
    {
     "data": {
      "image/png": "[encoded data removed]",
      "text/plain": [
       "<Figure size 864x576 with 1 Axes>"
      ]
     },
     "metadata": {
      "needs_background": "light"
     },
     "output_type": "display_data"
    }
   ],
   "source": [
    "fig = plt.gcf()\n",
    "ax = fig.add_subplot()\n",
    "fig.set_size_inches(12, 8)\n",
    "squarify.plot(sizes=resum['%_cliente'], \n",
    "              label=['1. Bajo', # Coloque los nombres que usted ha definido\n",
    "                     '2. Insatisfecho',\n",
    "                     '3. Posible Satisfecho',\n",
    "                     '4. Satisfecho',\n",
    "                     '5. Posible\\nEstrella',\n",
    "                     '6. Estrella'], alpha=0.7 )\n",
    "plt.title(\"Segmento RFM + t ( Basado en la cantidad de clientes )\",fontsize=18,fontweight=\"bold\")\n",
    "plt.axis('off')\n",
    "plt.show()"
   ]
  },
  {
   "cell_type": "code",
   "execution_count": 52,
   "id": "devoted-month",
   "metadata": {
    "execution": {
     "iopub.execute_input": "2021-05-02T20:03:34.967683Z",
     "iopub.status.busy": "2021-05-02T20:03:34.965426Z",
     "iopub.status.idle": "2021-05-02T20:03:35.069986Z",
     "shell.execute_reply": "2021-05-02T20:03:35.069444Z"
    },
    "papermill": {
     "duration": 0.212852,
     "end_time": "2021-05-02T20:03:35.070120",
     "exception": false,
     "start_time": "2021-05-02T20:03:34.857268",
     "status": "completed"
    },
    "tags": []
   },
   "outputs": [
    {
     "data": {
      "image/png": "[encoded data removed]",
      "text/plain": [
       "<Figure size 864x576 with 1 Axes>"
      ]
     },
     "metadata": {
      "needs_background": "light"
     },
     "output_type": "display_data"
    }
   ],
   "source": [
    "fig = plt.gcf()\n",
    "ax = fig.add_subplot()\n",
    "fig.set_size_inches(12, 8)\n",
    "squarify.plot(sizes=resum['%_consumo'], \n",
    "              label=['1. Bajo\\nclientes 51.8%\\nconsumo 25.0%', # Coloque los nombres que usted ha definido\n",
    "                     '2. Insatisfecho\\nclientes 0.5%\\nconsumo 3.3%',\n",
    "                     '3. Posible Satisfecho\\nclientes 44.0%\\nconsumo 40.4%',\n",
    "                     '4. Satisfecho\\nclientes 3.5%\\nconsumo 21.0%',\n",
    "                     '5. Posible Estrella\\nclientes 0.1%\\nconsumo 3.2%',\n",
    "                     '6. Estrella\\nclientes 0.2%\\nconsumo 7.2%'], alpha=0.7 )\n",
    "plt.title(\"Segmento RFM + t ( Basado en el consumo: monto3um )\",fontsize=18,fontweight=\"bold\")\n",
    "plt.axis('off')\n",
    "plt.show()"
   ]
  },
  {
   "cell_type": "markdown",
   "id": "mysterious-impossible",
   "metadata": {
    "papermill": {
     "duration": 0.082308,
     "end_time": "2021-05-02T20:03:35.235041",
     "exception": false,
     "start_time": "2021-05-02T20:03:35.152733",
     "status": "completed"
    },
    "tags": []
   },
   "source": [
    "# Método RFM Clásico"
   ]
  },
  {
   "cell_type": "markdown",
   "id": "consistent-auction",
   "metadata": {
    "papermill": {
     "duration": 0.084584,
     "end_time": "2021-05-02T20:03:35.403918",
     "exception": false,
     "start_time": "2021-05-02T20:03:35.319334",
     "status": "completed"
    },
    "tags": []
   },
   "source": [
    "El método RFM + t Clásico dió como resultado segmentar y detectar que un 3.8% de clientes (Estrella, Posible Estrella y Satisfecho) representan el 31.4% del consumo; además que el 47.8% de clientes (Satisfecho, Insatisfecho, Posible Satisfecho, Estrella y Posible Estrella) representan el 71.8% de consumo cumpliéndose una especie de ley de pareto donde el 20% de clientes hace el 80% de compras, además este método nos permitió hacer una segmentación más minusiosa y detallada de los tipos de clientes.\n",
    "\n",
    "En resumen, resultó muy útil debido a que se detecto a la población que consume más en nuestro mercado, siendo esto muy útil, ya que nuestra campaña se podría dirigir mejor hacia esta clase de clientes, para que mejoren su consumo y mantener su preferencia por nuestro mercado."
   ]
  }
 ],
 "metadata": {
  "kernelspec": {
   "display_name": "Python 3",
   "language": "python",
   "name": "python3"
  },
  "language_info": {
   "codemirror_mode": {
    "name": "ipython",
    "version": 3
   },
   "file_extension": ".py",
   "mimetype": "text/x-python",
   "name": "python",
   "nbconvert_exporter": "python",
   "pygments_lexer": "ipython3",
   "version": "3.7.10"
  },
  "papermill": {
   "default_parameters": {},
   "duration": 98.939896,
   "end_time": "2021-05-02T20:03:36.299115",
   "environment_variables": {},
   "exception": null,
   "input_path": "__notebook__.ipynb",
   "output_path": "__notebook__.ipynb",
   "parameters": {},
   "start_time": "2021-05-02T20:01:57.359219",
   "version": "2.3.3"
  }
 },
 "nbformat": 4,
 "nbformat_minor": 5
}
